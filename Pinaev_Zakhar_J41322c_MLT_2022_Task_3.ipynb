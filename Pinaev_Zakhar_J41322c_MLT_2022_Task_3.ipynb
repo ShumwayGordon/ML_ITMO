{
  "cells": [
    {
      "cell_type": "markdown",
      "metadata": {
        "id": "3bwc67eelkac"
      },
      "source": [
        "# **Task #3**"
      ]
    },
    {
      "cell_type": "code",
      "execution_count": 192,
      "metadata": {
        "id": "LwubuJglaHZR"
      },
      "outputs": [],
      "source": [
        "# import the libraries\n",
        "\n",
        "from sklearn.model_selection import train_test_split\n",
        "\n",
        "import numpy as np\n",
        "import matplotlib.pyplot as plt\n",
        "import scipy\n",
        "import pandas as pd"
      ]
    },
    {
      "cell_type": "markdown",
      "metadata": {
        "id": "JtLcLkolmsPj"
      },
      "source": [
        "Logistic regression functions"
      ]
    },
    {
      "cell_type": "code",
      "execution_count": 193,
      "metadata": {
        "id": "6o430nOxlpqd"
      },
      "outputs": [],
      "source": [
        "# sigmoid\n",
        "def sigmoid(z):\n",
        "    s = 1./(1.+np.exp(-z))\n",
        "    return s\n",
        "\n",
        "\n",
        "# initialize_with_zeros\n",
        "def initialize_with_zeros(dim):\n",
        "    \"\"\"This function creates a vector of zeros of shape (dim, 1) for w and initializes b to 0.\"\"\"\n",
        "    w = np.zeros((dim,1))\n",
        "    b = 0.\n",
        "    return w, b\n",
        "\n",
        "\n",
        "# propagate\n",
        "\n",
        "def propagate(w, b, X, Y):\n",
        "    \"\"\"Implement the cost function and its gradient for the propagation explained above\"\"\"\n",
        "    m = X.shape[1]\n",
        "    #print('number of objects = ',len(X))\n",
        "    \n",
        "    # FORWARD PROPAGATION (FROM X TO COST)\n",
        "    A = sigmoid(np.dot(w.T,X)+b )                                 # compute activation\n",
        "    cost = -(1./m)*np.sum(Y*np.log(A)+(1-Y)*np.log(1-A),axis=1)   # compute cost\n",
        "    \n",
        "    # BACKWARD PROPAGATION (TO FIND GRAD)\n",
        "    dw = (1./m)*np.dot(X,(A-Y).T)\n",
        "    db = (1./m)*np.sum(A-Y,axis=1)\n",
        "\n",
        "    grads = {\"dw\": dw,\n",
        "             \"db\": db}\n",
        "    \n",
        "    return grads, cost\n",
        "\n",
        "\n",
        "# optimize\n",
        "\n",
        "def optimize(w, b, X, Y, num_iterations, learning_rate, print_cost = False):\n",
        "    \"\"\"This function optimizes w and b by running a gradient descent algorithm\"\"\"\n",
        "    costs = []\n",
        "    for i in range(num_iterations):\n",
        "                \n",
        "        # Cost and gradient calculation \n",
        "        grads, cost = propagate(w,b,X,Y)\n",
        "        \n",
        "        # Retrieve derivatives from grads\n",
        "        dw = grads[\"dw\"]\n",
        "        db = grads[\"db\"]\n",
        "        \n",
        "        # update rule\n",
        "        w -=learning_rate*dw\n",
        "        b -=learning_rate*db\n",
        "        \n",
        "        # Record the costs\n",
        "        if i % 100 == 0:\n",
        "            costs.append(cost)\n",
        "        \n",
        "        # Print the cost every 100 training iterations\n",
        "        if print_cost and i % 100 == 0:\n",
        "            print (\"Cost after iteration %i: %f\" %(i, cost))\n",
        "    \n",
        "    params = {\"w\": w,\n",
        "              \"b\": b}\n",
        "    grads = {\"dw\": dw,\n",
        "             \"db\": db}\n",
        "    return params, grads, costs\n",
        "\n",
        "\n",
        "    # predict\n",
        "\n",
        "def predict(w, b, X):\n",
        "    \"\"\"Predict whether the label is 0 or 1 using learned logistic regression parameters (w, b)\"\"\"\n",
        "    \n",
        "    m = X.shape[1]\n",
        "    Y_prediction = np.zeros((1,m))\n",
        "    w = w.reshape(X.shape[0], 1)\n",
        "    \n",
        "    # Compute vector \"A\" predicting the probabilities \n",
        "    A = sigmoid(np.dot(w.T,X)+b)\n",
        "    \n",
        "    for i in range(A.shape[1]):\n",
        "        \n",
        "        # Convert probabilities A[0,i] to actual predictions p[0,i]\n",
        "        if (A[0,i]<=0.5):\n",
        "            Y_prediction[0][i]=0\n",
        "        else:\n",
        "            Y_prediction[0][i]=1\n",
        "    \n",
        "    return Y_prediction"
      ]
    },
    {
      "cell_type": "markdown",
      "metadata": {
        "id": "qkhCsXN2npvR"
      },
      "source": [
        "Logistic regression functions merged into one model"
      ]
    },
    {
      "cell_type": "code",
      "execution_count": 194,
      "metadata": {
        "id": "s2B8jIZEnl1g"
      },
      "outputs": [],
      "source": [
        "# model\n",
        "\n",
        "def model(X_train, Y_train, X_test, Y_test, num_iterations = 2000, learning_rate = 0.5, print_cost = False):\n",
        "    \"\"\"Builds the logistic regression model by calling the function we've implemented previously\"\"\"\n",
        "    \n",
        "    # initialize parameters with zeros \n",
        "    w, b = initialize_with_zeros(X_train.shape[0])\n",
        "\n",
        "    # Gradient descent\n",
        "    parameters, grads, costs = optimize(w, b, X_train, Y_train, num_iterations, learning_rate, print_cost)\n",
        "    \n",
        "    # Retrieve parameters w and b from dictionary \"parameters\"\n",
        "    w = parameters[\"w\"]\n",
        "    b = parameters[\"b\"]\n",
        "    \n",
        "    # Predict test/train set examples\n",
        "    Y_prediction_test = predict(w, b, X_test)\n",
        "    Y_prediction_train = predict(w, b, X_train)\n",
        "\n",
        "    # Print train/test Errors\n",
        "    print(\"train accuracy: {} %\".format(100 - np.mean(np.abs(Y_prediction_train - Y_train)) * 100))\n",
        "    print(\"test accuracy: {} %\".format(100 - np.mean(np.abs(Y_prediction_test - Y_test)) * 100))\n",
        "\n",
        "    d = {\"costs\": costs,\n",
        "         \"Y_prediction_test\": Y_prediction_test, \n",
        "         \"Y_prediction_train\" : Y_prediction_train, \n",
        "         \"w\" : w, \n",
        "         \"b\" : b,\n",
        "         \"learning_rate\" : learning_rate,\n",
        "         \"num_iterations\": num_iterations}\n",
        "    \n",
        "    return d"
      ]
    },
    {
      "cell_type": "markdown",
      "metadata": {
        "id": "fEjVf3eXoSlt"
      },
      "source": [
        "Loading data"
      ]
    },
    {
      "cell_type": "code",
      "execution_count": 195,
      "metadata": {
        "colab": {
          "base_uri": "https://localhost:8080/",
          "height": 505
        },
        "id": "IF1bpFrModpA",
        "outputId": "60cfcaf5-1232-4e29-fe3e-89b21b5bc7e9"
      },
      "outputs": [
        {
          "output_type": "stream",
          "name": "stdout",
          "text": [
            "Drive already mounted at /content/drive/; to attempt to forcibly remount, call drive.mount(\"/content/drive/\", force_remount=True).\n"
          ]
        },
        {
          "output_type": "execute_result",
          "data": {
            "text/html": [
              "\n",
              "  <div id=\"df-b524f78d-c593-40b2-b82b-4b401d39cf1b\">\n",
              "    <div class=\"colab-df-container\">\n",
              "      <div>\n",
              "<style scoped>\n",
              "    .dataframe tbody tr th:only-of-type {\n",
              "        vertical-align: middle;\n",
              "    }\n",
              "\n",
              "    .dataframe tbody tr th {\n",
              "        vertical-align: top;\n",
              "    }\n",
              "\n",
              "    .dataframe thead th {\n",
              "        text-align: right;\n",
              "    }\n",
              "</style>\n",
              "<table border=\"1\" class=\"dataframe\">\n",
              "  <thead>\n",
              "    <tr style=\"text-align: right;\">\n",
              "      <th></th>\n",
              "      <th>Activity</th>\n",
              "      <th>D1</th>\n",
              "      <th>D2</th>\n",
              "      <th>D3</th>\n",
              "      <th>D4</th>\n",
              "      <th>D5</th>\n",
              "      <th>D6</th>\n",
              "      <th>D7</th>\n",
              "      <th>D8</th>\n",
              "      <th>D9</th>\n",
              "      <th>D10</th>\n",
              "      <th>D11</th>\n",
              "      <th>D12</th>\n",
              "      <th>D13</th>\n",
              "      <th>D14</th>\n",
              "      <th>D15</th>\n",
              "      <th>D16</th>\n",
              "      <th>D17</th>\n",
              "      <th>D18</th>\n",
              "      <th>D19</th>\n",
              "      <th>D20</th>\n",
              "      <th>D21</th>\n",
              "      <th>D22</th>\n",
              "      <th>D23</th>\n",
              "      <th>D24</th>\n",
              "      <th>D25</th>\n",
              "      <th>D26</th>\n",
              "      <th>D27</th>\n",
              "      <th>D28</th>\n",
              "      <th>D29</th>\n",
              "      <th>D30</th>\n",
              "      <th>D31</th>\n",
              "      <th>D32</th>\n",
              "      <th>D33</th>\n",
              "      <th>D34</th>\n",
              "      <th>D35</th>\n",
              "      <th>D36</th>\n",
              "      <th>D37</th>\n",
              "      <th>D38</th>\n",
              "      <th>D39</th>\n",
              "      <th>...</th>\n",
              "      <th>D1737</th>\n",
              "      <th>D1738</th>\n",
              "      <th>D1739</th>\n",
              "      <th>D1740</th>\n",
              "      <th>D1741</th>\n",
              "      <th>D1742</th>\n",
              "      <th>D1743</th>\n",
              "      <th>D1744</th>\n",
              "      <th>D1745</th>\n",
              "      <th>D1746</th>\n",
              "      <th>D1747</th>\n",
              "      <th>D1748</th>\n",
              "      <th>D1749</th>\n",
              "      <th>D1750</th>\n",
              "      <th>D1751</th>\n",
              "      <th>D1752</th>\n",
              "      <th>D1753</th>\n",
              "      <th>D1754</th>\n",
              "      <th>D1755</th>\n",
              "      <th>D1756</th>\n",
              "      <th>D1757</th>\n",
              "      <th>D1758</th>\n",
              "      <th>D1759</th>\n",
              "      <th>D1760</th>\n",
              "      <th>D1761</th>\n",
              "      <th>D1762</th>\n",
              "      <th>D1763</th>\n",
              "      <th>D1764</th>\n",
              "      <th>D1765</th>\n",
              "      <th>D1766</th>\n",
              "      <th>D1767</th>\n",
              "      <th>D1768</th>\n",
              "      <th>D1769</th>\n",
              "      <th>D1770</th>\n",
              "      <th>D1771</th>\n",
              "      <th>D1772</th>\n",
              "      <th>D1773</th>\n",
              "      <th>D1774</th>\n",
              "      <th>D1775</th>\n",
              "      <th>D1776</th>\n",
              "    </tr>\n",
              "  </thead>\n",
              "  <tbody>\n",
              "    <tr>\n",
              "      <th>0</th>\n",
              "      <td>1</td>\n",
              "      <td>0.000000</td>\n",
              "      <td>0.497009</td>\n",
              "      <td>0.10</td>\n",
              "      <td>0.0</td>\n",
              "      <td>0.132956</td>\n",
              "      <td>0.678031</td>\n",
              "      <td>0.273166</td>\n",
              "      <td>0.585445</td>\n",
              "      <td>0.743663</td>\n",
              "      <td>0.243144</td>\n",
              "      <td>0.187856</td>\n",
              "      <td>0.0000</td>\n",
              "      <td>0.000000</td>\n",
              "      <td>0.069000</td>\n",
              "      <td>0.362012</td>\n",
              "      <td>0.301773</td>\n",
              "      <td>0.597930</td>\n",
              "      <td>0.190813</td>\n",
              "      <td>0.107219</td>\n",
              "      <td>0.070500</td>\n",
              "      <td>0.00717</td>\n",
              "      <td>0.137931</td>\n",
              "      <td>1</td>\n",
              "      <td>0.00</td>\n",
              "      <td>0.496683</td>\n",
              "      <td>0.753131</td>\n",
              "      <td>1</td>\n",
              "      <td>1</td>\n",
              "      <td>0.000000</td>\n",
              "      <td>0.262919</td>\n",
              "      <td>0.077200</td>\n",
              "      <td>0.082700</td>\n",
              "      <td>0.200590</td>\n",
              "      <td>0.00000</td>\n",
              "      <td>0.000000</td>\n",
              "      <td>0.000000</td>\n",
              "      <td>0.00</td>\n",
              "      <td>0.162383</td>\n",
              "      <td>0.150153</td>\n",
              "      <td>...</td>\n",
              "      <td>0</td>\n",
              "      <td>0</td>\n",
              "      <td>0</td>\n",
              "      <td>0</td>\n",
              "      <td>0</td>\n",
              "      <td>0</td>\n",
              "      <td>0</td>\n",
              "      <td>0</td>\n",
              "      <td>0</td>\n",
              "      <td>0</td>\n",
              "      <td>0</td>\n",
              "      <td>0</td>\n",
              "      <td>0</td>\n",
              "      <td>0</td>\n",
              "      <td>0</td>\n",
              "      <td>0</td>\n",
              "      <td>0</td>\n",
              "      <td>0</td>\n",
              "      <td>0</td>\n",
              "      <td>0</td>\n",
              "      <td>0</td>\n",
              "      <td>0</td>\n",
              "      <td>0</td>\n",
              "      <td>0</td>\n",
              "      <td>0</td>\n",
              "      <td>0</td>\n",
              "      <td>0</td>\n",
              "      <td>0</td>\n",
              "      <td>0</td>\n",
              "      <td>0</td>\n",
              "      <td>0</td>\n",
              "      <td>0</td>\n",
              "      <td>0</td>\n",
              "      <td>0</td>\n",
              "      <td>0</td>\n",
              "      <td>0</td>\n",
              "      <td>0</td>\n",
              "      <td>0</td>\n",
              "      <td>0</td>\n",
              "      <td>0</td>\n",
              "    </tr>\n",
              "    <tr>\n",
              "      <th>1</th>\n",
              "      <td>1</td>\n",
              "      <td>0.366667</td>\n",
              "      <td>0.606291</td>\n",
              "      <td>0.05</td>\n",
              "      <td>0.0</td>\n",
              "      <td>0.111209</td>\n",
              "      <td>0.803455</td>\n",
              "      <td>0.106105</td>\n",
              "      <td>0.411754</td>\n",
              "      <td>0.836582</td>\n",
              "      <td>0.106480</td>\n",
              "      <td>0.101382</td>\n",
              "      <td>0.1875</td>\n",
              "      <td>0.193548</td>\n",
              "      <td>0.131001</td>\n",
              "      <td>0.350206</td>\n",
              "      <td>0.187419</td>\n",
              "      <td>0.762669</td>\n",
              "      <td>0.180473</td>\n",
              "      <td>0.329962</td>\n",
              "      <td>0.107681</td>\n",
              "      <td>0.01950</td>\n",
              "      <td>0.206897</td>\n",
              "      <td>0</td>\n",
              "      <td>0.75</td>\n",
              "      <td>0.449869</td>\n",
              "      <td>0.720484</td>\n",
              "      <td>0</td>\n",
              "      <td>0</td>\n",
              "      <td>0.666667</td>\n",
              "      <td>0.099400</td>\n",
              "      <td>0.289240</td>\n",
              "      <td>0.216710</td>\n",
              "      <td>0.100295</td>\n",
              "      <td>0.16958</td>\n",
              "      <td>0.235294</td>\n",
              "      <td>0.000000</td>\n",
              "      <td>0.00</td>\n",
              "      <td>0.119104</td>\n",
              "      <td>0.075100</td>\n",
              "      <td>...</td>\n",
              "      <td>0</td>\n",
              "      <td>1</td>\n",
              "      <td>1</td>\n",
              "      <td>0</td>\n",
              "      <td>0</td>\n",
              "      <td>0</td>\n",
              "      <td>1</td>\n",
              "      <td>1</td>\n",
              "      <td>0</td>\n",
              "      <td>1</td>\n",
              "      <td>0</td>\n",
              "      <td>0</td>\n",
              "      <td>1</td>\n",
              "      <td>0</td>\n",
              "      <td>1</td>\n",
              "      <td>1</td>\n",
              "      <td>1</td>\n",
              "      <td>0</td>\n",
              "      <td>0</td>\n",
              "      <td>0</td>\n",
              "      <td>1</td>\n",
              "      <td>0</td>\n",
              "      <td>0</td>\n",
              "      <td>0</td>\n",
              "      <td>1</td>\n",
              "      <td>0</td>\n",
              "      <td>1</td>\n",
              "      <td>1</td>\n",
              "      <td>0</td>\n",
              "      <td>0</td>\n",
              "      <td>1</td>\n",
              "      <td>1</td>\n",
              "      <td>1</td>\n",
              "      <td>1</td>\n",
              "      <td>0</td>\n",
              "      <td>1</td>\n",
              "      <td>0</td>\n",
              "      <td>0</td>\n",
              "      <td>1</td>\n",
              "      <td>0</td>\n",
              "    </tr>\n",
              "    <tr>\n",
              "      <th>2</th>\n",
              "      <td>1</td>\n",
              "      <td>0.033300</td>\n",
              "      <td>0.480124</td>\n",
              "      <td>0.00</td>\n",
              "      <td>0.0</td>\n",
              "      <td>0.209791</td>\n",
              "      <td>0.610350</td>\n",
              "      <td>0.356453</td>\n",
              "      <td>0.517720</td>\n",
              "      <td>0.679051</td>\n",
              "      <td>0.352308</td>\n",
              "      <td>0.193548</td>\n",
              "      <td>0.1250</td>\n",
              "      <td>0.000000</td>\n",
              "      <td>0.068900</td>\n",
              "      <td>0.574628</td>\n",
              "      <td>0.283327</td>\n",
              "      <td>0.510633</td>\n",
              "      <td>0.184480</td>\n",
              "      <td>0.073300</td>\n",
              "      <td>0.061600</td>\n",
              "      <td>0.00566</td>\n",
              "      <td>0.000000</td>\n",
              "      <td>1</td>\n",
              "      <td>0.00</td>\n",
              "      <td>0.486610</td>\n",
              "      <td>0.803577</td>\n",
              "      <td>0</td>\n",
              "      <td>1</td>\n",
              "      <td>0.000000</td>\n",
              "      <td>0.428659</td>\n",
              "      <td>0.032400</td>\n",
              "      <td>0.072400</td>\n",
              "      <td>0.000000</td>\n",
              "      <td>0.03930</td>\n",
              "      <td>0.000000</td>\n",
              "      <td>0.000000</td>\n",
              "      <td>0.00</td>\n",
              "      <td>0.076100</td>\n",
              "      <td>0.225229</td>\n",
              "      <td>...</td>\n",
              "      <td>0</td>\n",
              "      <td>0</td>\n",
              "      <td>0</td>\n",
              "      <td>0</td>\n",
              "      <td>0</td>\n",
              "      <td>0</td>\n",
              "      <td>0</td>\n",
              "      <td>0</td>\n",
              "      <td>0</td>\n",
              "      <td>0</td>\n",
              "      <td>0</td>\n",
              "      <td>0</td>\n",
              "      <td>0</td>\n",
              "      <td>0</td>\n",
              "      <td>0</td>\n",
              "      <td>0</td>\n",
              "      <td>0</td>\n",
              "      <td>0</td>\n",
              "      <td>0</td>\n",
              "      <td>0</td>\n",
              "      <td>0</td>\n",
              "      <td>0</td>\n",
              "      <td>0</td>\n",
              "      <td>0</td>\n",
              "      <td>0</td>\n",
              "      <td>0</td>\n",
              "      <td>0</td>\n",
              "      <td>0</td>\n",
              "      <td>0</td>\n",
              "      <td>0</td>\n",
              "      <td>0</td>\n",
              "      <td>0</td>\n",
              "      <td>0</td>\n",
              "      <td>0</td>\n",
              "      <td>0</td>\n",
              "      <td>0</td>\n",
              "      <td>0</td>\n",
              "      <td>0</td>\n",
              "      <td>0</td>\n",
              "      <td>0</td>\n",
              "    </tr>\n",
              "    <tr>\n",
              "      <th>3</th>\n",
              "      <td>1</td>\n",
              "      <td>0.000000</td>\n",
              "      <td>0.538825</td>\n",
              "      <td>0.00</td>\n",
              "      <td>0.5</td>\n",
              "      <td>0.196344</td>\n",
              "      <td>0.724230</td>\n",
              "      <td>0.235606</td>\n",
              "      <td>0.288764</td>\n",
              "      <td>0.805110</td>\n",
              "      <td>0.208989</td>\n",
              "      <td>0.000000</td>\n",
              "      <td>0.0000</td>\n",
              "      <td>0.000000</td>\n",
              "      <td>0.145947</td>\n",
              "      <td>0.584688</td>\n",
              "      <td>0.325247</td>\n",
              "      <td>0.496745</td>\n",
              "      <td>0.242288</td>\n",
              "      <td>0.087700</td>\n",
              "      <td>0.075300</td>\n",
              "      <td>0.01680</td>\n",
              "      <td>0.000000</td>\n",
              "      <td>1</td>\n",
              "      <td>0.00</td>\n",
              "      <td>0.459122</td>\n",
              "      <td>0.829482</td>\n",
              "      <td>0</td>\n",
              "      <td>1</td>\n",
              "      <td>0.000000</td>\n",
              "      <td>0.435410</td>\n",
              "      <td>0.118562</td>\n",
              "      <td>0.000000</td>\n",
              "      <td>0.000000</td>\n",
              "      <td>0.00000</td>\n",
              "      <td>0.000000</td>\n",
              "      <td>0.000000</td>\n",
              "      <td>0.00</td>\n",
              "      <td>0.068900</td>\n",
              "      <td>0.000000</td>\n",
              "      <td>...</td>\n",
              "      <td>0</td>\n",
              "      <td>0</td>\n",
              "      <td>0</td>\n",
              "      <td>0</td>\n",
              "      <td>0</td>\n",
              "      <td>0</td>\n",
              "      <td>0</td>\n",
              "      <td>0</td>\n",
              "      <td>0</td>\n",
              "      <td>0</td>\n",
              "      <td>0</td>\n",
              "      <td>0</td>\n",
              "      <td>0</td>\n",
              "      <td>0</td>\n",
              "      <td>0</td>\n",
              "      <td>0</td>\n",
              "      <td>0</td>\n",
              "      <td>0</td>\n",
              "      <td>0</td>\n",
              "      <td>0</td>\n",
              "      <td>0</td>\n",
              "      <td>0</td>\n",
              "      <td>0</td>\n",
              "      <td>0</td>\n",
              "      <td>0</td>\n",
              "      <td>0</td>\n",
              "      <td>0</td>\n",
              "      <td>0</td>\n",
              "      <td>0</td>\n",
              "      <td>0</td>\n",
              "      <td>0</td>\n",
              "      <td>0</td>\n",
              "      <td>0</td>\n",
              "      <td>0</td>\n",
              "      <td>0</td>\n",
              "      <td>0</td>\n",
              "      <td>0</td>\n",
              "      <td>0</td>\n",
              "      <td>0</td>\n",
              "      <td>0</td>\n",
              "    </tr>\n",
              "    <tr>\n",
              "      <th>4</th>\n",
              "      <td>0</td>\n",
              "      <td>0.100000</td>\n",
              "      <td>0.517794</td>\n",
              "      <td>0.00</td>\n",
              "      <td>0.0</td>\n",
              "      <td>0.494734</td>\n",
              "      <td>0.781422</td>\n",
              "      <td>0.154361</td>\n",
              "      <td>0.303809</td>\n",
              "      <td>0.812646</td>\n",
              "      <td>0.125177</td>\n",
              "      <td>0.532258</td>\n",
              "      <td>0.0000</td>\n",
              "      <td>0.000000</td>\n",
              "      <td>0.094900</td>\n",
              "      <td>0.540323</td>\n",
              "      <td>0.116775</td>\n",
              "      <td>0.552982</td>\n",
              "      <td>0.167897</td>\n",
              "      <td>0.116140</td>\n",
              "      <td>0.054200</td>\n",
              "      <td>0.01350</td>\n",
              "      <td>0.103448</td>\n",
              "      <td>1</td>\n",
              "      <td>0.00</td>\n",
              "      <td>0.381883</td>\n",
              "      <td>0.913374</td>\n",
              "      <td>0</td>\n",
              "      <td>1</td>\n",
              "      <td>0.000000</td>\n",
              "      <td>0.305333</td>\n",
              "      <td>0.054100</td>\n",
              "      <td>0.170822</td>\n",
              "      <td>0.000000</td>\n",
              "      <td>0.00000</td>\n",
              "      <td>0.176471</td>\n",
              "      <td>0.000000</td>\n",
              "      <td>0.00</td>\n",
              "      <td>0.019900</td>\n",
              "      <td>0.057400</td>\n",
              "      <td>...</td>\n",
              "      <td>0</td>\n",
              "      <td>0</td>\n",
              "      <td>0</td>\n",
              "      <td>0</td>\n",
              "      <td>0</td>\n",
              "      <td>0</td>\n",
              "      <td>0</td>\n",
              "      <td>0</td>\n",
              "      <td>0</td>\n",
              "      <td>0</td>\n",
              "      <td>0</td>\n",
              "      <td>0</td>\n",
              "      <td>0</td>\n",
              "      <td>0</td>\n",
              "      <td>0</td>\n",
              "      <td>0</td>\n",
              "      <td>0</td>\n",
              "      <td>0</td>\n",
              "      <td>0</td>\n",
              "      <td>0</td>\n",
              "      <td>0</td>\n",
              "      <td>0</td>\n",
              "      <td>0</td>\n",
              "      <td>0</td>\n",
              "      <td>0</td>\n",
              "      <td>0</td>\n",
              "      <td>0</td>\n",
              "      <td>0</td>\n",
              "      <td>0</td>\n",
              "      <td>0</td>\n",
              "      <td>0</td>\n",
              "      <td>0</td>\n",
              "      <td>0</td>\n",
              "      <td>0</td>\n",
              "      <td>0</td>\n",
              "      <td>0</td>\n",
              "      <td>0</td>\n",
              "      <td>0</td>\n",
              "      <td>0</td>\n",
              "      <td>0</td>\n",
              "    </tr>\n",
              "    <tr>\n",
              "      <th>...</th>\n",
              "      <td>...</td>\n",
              "      <td>...</td>\n",
              "      <td>...</td>\n",
              "      <td>...</td>\n",
              "      <td>...</td>\n",
              "      <td>...</td>\n",
              "      <td>...</td>\n",
              "      <td>...</td>\n",
              "      <td>...</td>\n",
              "      <td>...</td>\n",
              "      <td>...</td>\n",
              "      <td>...</td>\n",
              "      <td>...</td>\n",
              "      <td>...</td>\n",
              "      <td>...</td>\n",
              "      <td>...</td>\n",
              "      <td>...</td>\n",
              "      <td>...</td>\n",
              "      <td>...</td>\n",
              "      <td>...</td>\n",
              "      <td>...</td>\n",
              "      <td>...</td>\n",
              "      <td>...</td>\n",
              "      <td>...</td>\n",
              "      <td>...</td>\n",
              "      <td>...</td>\n",
              "      <td>...</td>\n",
              "      <td>...</td>\n",
              "      <td>...</td>\n",
              "      <td>...</td>\n",
              "      <td>...</td>\n",
              "      <td>...</td>\n",
              "      <td>...</td>\n",
              "      <td>...</td>\n",
              "      <td>...</td>\n",
              "      <td>...</td>\n",
              "      <td>...</td>\n",
              "      <td>...</td>\n",
              "      <td>...</td>\n",
              "      <td>...</td>\n",
              "      <td>...</td>\n",
              "      <td>...</td>\n",
              "      <td>...</td>\n",
              "      <td>...</td>\n",
              "      <td>...</td>\n",
              "      <td>...</td>\n",
              "      <td>...</td>\n",
              "      <td>...</td>\n",
              "      <td>...</td>\n",
              "      <td>...</td>\n",
              "      <td>...</td>\n",
              "      <td>...</td>\n",
              "      <td>...</td>\n",
              "      <td>...</td>\n",
              "      <td>...</td>\n",
              "      <td>...</td>\n",
              "      <td>...</td>\n",
              "      <td>...</td>\n",
              "      <td>...</td>\n",
              "      <td>...</td>\n",
              "      <td>...</td>\n",
              "      <td>...</td>\n",
              "      <td>...</td>\n",
              "      <td>...</td>\n",
              "      <td>...</td>\n",
              "      <td>...</td>\n",
              "      <td>...</td>\n",
              "      <td>...</td>\n",
              "      <td>...</td>\n",
              "      <td>...</td>\n",
              "      <td>...</td>\n",
              "      <td>...</td>\n",
              "      <td>...</td>\n",
              "      <td>...</td>\n",
              "      <td>...</td>\n",
              "      <td>...</td>\n",
              "      <td>...</td>\n",
              "      <td>...</td>\n",
              "      <td>...</td>\n",
              "      <td>...</td>\n",
              "      <td>...</td>\n",
              "    </tr>\n",
              "    <tr>\n",
              "      <th>3746</th>\n",
              "      <td>1</td>\n",
              "      <td>0.033300</td>\n",
              "      <td>0.506409</td>\n",
              "      <td>0.10</td>\n",
              "      <td>0.0</td>\n",
              "      <td>0.209887</td>\n",
              "      <td>0.633426</td>\n",
              "      <td>0.297659</td>\n",
              "      <td>0.376124</td>\n",
              "      <td>0.727093</td>\n",
              "      <td>0.308163</td>\n",
              "      <td>0.000000</td>\n",
              "      <td>0.0000</td>\n",
              "      <td>0.000000</td>\n",
              "      <td>0.071800</td>\n",
              "      <td>0.362006</td>\n",
              "      <td>0.229374</td>\n",
              "      <td>0.603893</td>\n",
              "      <td>0.129706</td>\n",
              "      <td>0.092400</td>\n",
              "      <td>0.036100</td>\n",
              "      <td>0.00473</td>\n",
              "      <td>0.069000</td>\n",
              "      <td>1</td>\n",
              "      <td>0.00</td>\n",
              "      <td>0.486439</td>\n",
              "      <td>0.783710</td>\n",
              "      <td>1</td>\n",
              "      <td>1</td>\n",
              "      <td>0.000000</td>\n",
              "      <td>0.364694</td>\n",
              "      <td>0.136861</td>\n",
              "      <td>0.047300</td>\n",
              "      <td>0.100295</td>\n",
              "      <td>0.00000</td>\n",
              "      <td>0.000000</td>\n",
              "      <td>0.000000</td>\n",
              "      <td>0.00</td>\n",
              "      <td>0.223324</td>\n",
              "      <td>0.000000</td>\n",
              "      <td>...</td>\n",
              "      <td>0</td>\n",
              "      <td>0</td>\n",
              "      <td>0</td>\n",
              "      <td>0</td>\n",
              "      <td>0</td>\n",
              "      <td>0</td>\n",
              "      <td>0</td>\n",
              "      <td>0</td>\n",
              "      <td>0</td>\n",
              "      <td>0</td>\n",
              "      <td>0</td>\n",
              "      <td>0</td>\n",
              "      <td>0</td>\n",
              "      <td>0</td>\n",
              "      <td>0</td>\n",
              "      <td>0</td>\n",
              "      <td>0</td>\n",
              "      <td>0</td>\n",
              "      <td>0</td>\n",
              "      <td>0</td>\n",
              "      <td>0</td>\n",
              "      <td>0</td>\n",
              "      <td>0</td>\n",
              "      <td>0</td>\n",
              "      <td>0</td>\n",
              "      <td>0</td>\n",
              "      <td>0</td>\n",
              "      <td>0</td>\n",
              "      <td>0</td>\n",
              "      <td>0</td>\n",
              "      <td>0</td>\n",
              "      <td>0</td>\n",
              "      <td>0</td>\n",
              "      <td>0</td>\n",
              "      <td>0</td>\n",
              "      <td>0</td>\n",
              "      <td>0</td>\n",
              "      <td>0</td>\n",
              "      <td>0</td>\n",
              "      <td>0</td>\n",
              "    </tr>\n",
              "    <tr>\n",
              "      <th>3747</th>\n",
              "      <td>1</td>\n",
              "      <td>0.133333</td>\n",
              "      <td>0.651023</td>\n",
              "      <td>0.15</td>\n",
              "      <td>0.0</td>\n",
              "      <td>0.151154</td>\n",
              "      <td>0.766505</td>\n",
              "      <td>0.170876</td>\n",
              "      <td>0.404546</td>\n",
              "      <td>0.787935</td>\n",
              "      <td>0.192527</td>\n",
              "      <td>0.085200</td>\n",
              "      <td>0.2500</td>\n",
              "      <td>0.064500</td>\n",
              "      <td>0.121309</td>\n",
              "      <td>0.347521</td>\n",
              "      <td>0.250846</td>\n",
              "      <td>0.660747</td>\n",
              "      <td>0.221975</td>\n",
              "      <td>0.167944</td>\n",
              "      <td>0.065700</td>\n",
              "      <td>0.00939</td>\n",
              "      <td>0.172414</td>\n",
              "      <td>1</td>\n",
              "      <td>0.00</td>\n",
              "      <td>0.390864</td>\n",
              "      <td>0.815279</td>\n",
              "      <td>0</td>\n",
              "      <td>1</td>\n",
              "      <td>0.000000</td>\n",
              "      <td>0.153533</td>\n",
              "      <td>0.127563</td>\n",
              "      <td>0.122141</td>\n",
              "      <td>0.104815</td>\n",
              "      <td>0.08000</td>\n",
              "      <td>0.191429</td>\n",
              "      <td>0.146735</td>\n",
              "      <td>0.00</td>\n",
              "      <td>0.101137</td>\n",
              "      <td>0.075100</td>\n",
              "      <td>...</td>\n",
              "      <td>1</td>\n",
              "      <td>1</td>\n",
              "      <td>0</td>\n",
              "      <td>1</td>\n",
              "      <td>1</td>\n",
              "      <td>1</td>\n",
              "      <td>1</td>\n",
              "      <td>0</td>\n",
              "      <td>1</td>\n",
              "      <td>0</td>\n",
              "      <td>0</td>\n",
              "      <td>1</td>\n",
              "      <td>0</td>\n",
              "      <td>0</td>\n",
              "      <td>0</td>\n",
              "      <td>0</td>\n",
              "      <td>1</td>\n",
              "      <td>1</td>\n",
              "      <td>1</td>\n",
              "      <td>0</td>\n",
              "      <td>1</td>\n",
              "      <td>0</td>\n",
              "      <td>0</td>\n",
              "      <td>0</td>\n",
              "      <td>1</td>\n",
              "      <td>1</td>\n",
              "      <td>1</td>\n",
              "      <td>1</td>\n",
              "      <td>1</td>\n",
              "      <td>0</td>\n",
              "      <td>0</td>\n",
              "      <td>0</td>\n",
              "      <td>1</td>\n",
              "      <td>0</td>\n",
              "      <td>1</td>\n",
              "      <td>0</td>\n",
              "      <td>1</td>\n",
              "      <td>0</td>\n",
              "      <td>0</td>\n",
              "      <td>0</td>\n",
              "    </tr>\n",
              "    <tr>\n",
              "      <th>3748</th>\n",
              "      <td>0</td>\n",
              "      <td>0.200000</td>\n",
              "      <td>0.520564</td>\n",
              "      <td>0.00</td>\n",
              "      <td>0.0</td>\n",
              "      <td>0.179949</td>\n",
              "      <td>0.768785</td>\n",
              "      <td>0.177341</td>\n",
              "      <td>0.471179</td>\n",
              "      <td>0.872241</td>\n",
              "      <td>0.122132</td>\n",
              "      <td>0.624027</td>\n",
              "      <td>0.1875</td>\n",
              "      <td>0.064500</td>\n",
              "      <td>0.091700</td>\n",
              "      <td>0.519094</td>\n",
              "      <td>0.243037</td>\n",
              "      <td>0.691896</td>\n",
              "      <td>0.215831</td>\n",
              "      <td>0.338637</td>\n",
              "      <td>0.290643</td>\n",
              "      <td>0.04450</td>\n",
              "      <td>0.103448</td>\n",
              "      <td>1</td>\n",
              "      <td>0.00</td>\n",
              "      <td>0.590995</td>\n",
              "      <td>0.581372</td>\n",
              "      <td>0</td>\n",
              "      <td>0</td>\n",
              "      <td>0.333333</td>\n",
              "      <td>0.128839</td>\n",
              "      <td>0.357203</td>\n",
              "      <td>0.077600</td>\n",
              "      <td>0.028500</td>\n",
              "      <td>0.06200</td>\n",
              "      <td>0.308468</td>\n",
              "      <td>0.166667</td>\n",
              "      <td>0.00</td>\n",
              "      <td>0.019900</td>\n",
              "      <td>0.377263</td>\n",
              "      <td>...</td>\n",
              "      <td>0</td>\n",
              "      <td>0</td>\n",
              "      <td>0</td>\n",
              "      <td>0</td>\n",
              "      <td>0</td>\n",
              "      <td>0</td>\n",
              "      <td>0</td>\n",
              "      <td>0</td>\n",
              "      <td>0</td>\n",
              "      <td>0</td>\n",
              "      <td>0</td>\n",
              "      <td>0</td>\n",
              "      <td>0</td>\n",
              "      <td>0</td>\n",
              "      <td>0</td>\n",
              "      <td>0</td>\n",
              "      <td>0</td>\n",
              "      <td>0</td>\n",
              "      <td>0</td>\n",
              "      <td>0</td>\n",
              "      <td>0</td>\n",
              "      <td>0</td>\n",
              "      <td>0</td>\n",
              "      <td>0</td>\n",
              "      <td>0</td>\n",
              "      <td>0</td>\n",
              "      <td>0</td>\n",
              "      <td>0</td>\n",
              "      <td>0</td>\n",
              "      <td>0</td>\n",
              "      <td>0</td>\n",
              "      <td>0</td>\n",
              "      <td>0</td>\n",
              "      <td>0</td>\n",
              "      <td>0</td>\n",
              "      <td>0</td>\n",
              "      <td>0</td>\n",
              "      <td>0</td>\n",
              "      <td>0</td>\n",
              "      <td>0</td>\n",
              "    </tr>\n",
              "    <tr>\n",
              "      <th>3749</th>\n",
              "      <td>1</td>\n",
              "      <td>0.100000</td>\n",
              "      <td>0.765646</td>\n",
              "      <td>0.00</td>\n",
              "      <td>0.0</td>\n",
              "      <td>0.536954</td>\n",
              "      <td>0.634936</td>\n",
              "      <td>0.342713</td>\n",
              "      <td>0.447162</td>\n",
              "      <td>0.672689</td>\n",
              "      <td>0.372936</td>\n",
              "      <td>0.319355</td>\n",
              "      <td>0.1875</td>\n",
              "      <td>0.000000</td>\n",
              "      <td>0.273901</td>\n",
              "      <td>0.549001</td>\n",
              "      <td>0.567326</td>\n",
              "      <td>0.427189</td>\n",
              "      <td>0.332955</td>\n",
              "      <td>0.168837</td>\n",
              "      <td>0.105198</td>\n",
              "      <td>0.02240</td>\n",
              "      <td>0.034500</td>\n",
              "      <td>1</td>\n",
              "      <td>0.00</td>\n",
              "      <td>0.471154</td>\n",
              "      <td>0.795728</td>\n",
              "      <td>1</td>\n",
              "      <td>1</td>\n",
              "      <td>0.000000</td>\n",
              "      <td>0.282592</td>\n",
              "      <td>0.005600</td>\n",
              "      <td>0.010300</td>\n",
              "      <td>0.070200</td>\n",
              "      <td>0.08590</td>\n",
              "      <td>0.058800</td>\n",
              "      <td>0.000000</td>\n",
              "      <td>0.25</td>\n",
              "      <td>0.000000</td>\n",
              "      <td>0.271839</td>\n",
              "      <td>...</td>\n",
              "      <td>0</td>\n",
              "      <td>0</td>\n",
              "      <td>0</td>\n",
              "      <td>0</td>\n",
              "      <td>0</td>\n",
              "      <td>0</td>\n",
              "      <td>0</td>\n",
              "      <td>0</td>\n",
              "      <td>0</td>\n",
              "      <td>0</td>\n",
              "      <td>0</td>\n",
              "      <td>0</td>\n",
              "      <td>0</td>\n",
              "      <td>0</td>\n",
              "      <td>0</td>\n",
              "      <td>0</td>\n",
              "      <td>0</td>\n",
              "      <td>0</td>\n",
              "      <td>0</td>\n",
              "      <td>0</td>\n",
              "      <td>0</td>\n",
              "      <td>0</td>\n",
              "      <td>0</td>\n",
              "      <td>0</td>\n",
              "      <td>0</td>\n",
              "      <td>0</td>\n",
              "      <td>0</td>\n",
              "      <td>0</td>\n",
              "      <td>0</td>\n",
              "      <td>0</td>\n",
              "      <td>0</td>\n",
              "      <td>0</td>\n",
              "      <td>0</td>\n",
              "      <td>0</td>\n",
              "      <td>0</td>\n",
              "      <td>0</td>\n",
              "      <td>0</td>\n",
              "      <td>0</td>\n",
              "      <td>0</td>\n",
              "      <td>0</td>\n",
              "    </tr>\n",
              "    <tr>\n",
              "      <th>3750</th>\n",
              "      <td>0</td>\n",
              "      <td>0.133333</td>\n",
              "      <td>0.533952</td>\n",
              "      <td>0.00</td>\n",
              "      <td>0.0</td>\n",
              "      <td>0.347966</td>\n",
              "      <td>0.757971</td>\n",
              "      <td>0.230667</td>\n",
              "      <td>0.272652</td>\n",
              "      <td>0.854116</td>\n",
              "      <td>0.140316</td>\n",
              "      <td>0.736973</td>\n",
              "      <td>0.1250</td>\n",
              "      <td>0.000000</td>\n",
              "      <td>0.097900</td>\n",
              "      <td>0.548488</td>\n",
              "      <td>0.170359</td>\n",
              "      <td>0.608174</td>\n",
              "      <td>0.198938</td>\n",
              "      <td>0.161527</td>\n",
              "      <td>0.302829</td>\n",
              "      <td>0.02470</td>\n",
              "      <td>0.069000</td>\n",
              "      <td>1</td>\n",
              "      <td>0.00</td>\n",
              "      <td>0.477220</td>\n",
              "      <td>0.821335</td>\n",
              "      <td>0</td>\n",
              "      <td>1</td>\n",
              "      <td>0.000000</td>\n",
              "      <td>0.221986</td>\n",
              "      <td>0.217089</td>\n",
              "      <td>0.000000</td>\n",
              "      <td>0.000000</td>\n",
              "      <td>0.00000</td>\n",
              "      <td>0.117647</td>\n",
              "      <td>0.333333</td>\n",
              "      <td>0.00</td>\n",
              "      <td>0.039900</td>\n",
              "      <td>0.106612</td>\n",
              "      <td>...</td>\n",
              "      <td>0</td>\n",
              "      <td>0</td>\n",
              "      <td>0</td>\n",
              "      <td>0</td>\n",
              "      <td>0</td>\n",
              "      <td>0</td>\n",
              "      <td>0</td>\n",
              "      <td>0</td>\n",
              "      <td>0</td>\n",
              "      <td>0</td>\n",
              "      <td>0</td>\n",
              "      <td>0</td>\n",
              "      <td>0</td>\n",
              "      <td>0</td>\n",
              "      <td>0</td>\n",
              "      <td>0</td>\n",
              "      <td>0</td>\n",
              "      <td>0</td>\n",
              "      <td>0</td>\n",
              "      <td>0</td>\n",
              "      <td>0</td>\n",
              "      <td>0</td>\n",
              "      <td>0</td>\n",
              "      <td>0</td>\n",
              "      <td>0</td>\n",
              "      <td>0</td>\n",
              "      <td>0</td>\n",
              "      <td>0</td>\n",
              "      <td>0</td>\n",
              "      <td>0</td>\n",
              "      <td>0</td>\n",
              "      <td>0</td>\n",
              "      <td>0</td>\n",
              "      <td>0</td>\n",
              "      <td>0</td>\n",
              "      <td>0</td>\n",
              "      <td>0</td>\n",
              "      <td>0</td>\n",
              "      <td>0</td>\n",
              "      <td>0</td>\n",
              "    </tr>\n",
              "  </tbody>\n",
              "</table>\n",
              "<p>3751 rows × 1777 columns</p>\n",
              "</div>\n",
              "      <button class=\"colab-df-convert\" onclick=\"convertToInteractive('df-b524f78d-c593-40b2-b82b-4b401d39cf1b')\"\n",
              "              title=\"Convert this dataframe to an interactive table.\"\n",
              "              style=\"display:none;\">\n",
              "        \n",
              "  <svg xmlns=\"http://www.w3.org/2000/svg\" height=\"24px\"viewBox=\"0 0 24 24\"\n",
              "       width=\"24px\">\n",
              "    <path d=\"M0 0h24v24H0V0z\" fill=\"none\"/>\n",
              "    <path d=\"M18.56 5.44l.94 2.06.94-2.06 2.06-.94-2.06-.94-.94-2.06-.94 2.06-2.06.94zm-11 1L8.5 8.5l.94-2.06 2.06-.94-2.06-.94L8.5 2.5l-.94 2.06-2.06.94zm10 10l.94 2.06.94-2.06 2.06-.94-2.06-.94-.94-2.06-.94 2.06-2.06.94z\"/><path d=\"M17.41 7.96l-1.37-1.37c-.4-.4-.92-.59-1.43-.59-.52 0-1.04.2-1.43.59L10.3 9.45l-7.72 7.72c-.78.78-.78 2.05 0 2.83L4 21.41c.39.39.9.59 1.41.59.51 0 1.02-.2 1.41-.59l7.78-7.78 2.81-2.81c.8-.78.8-2.07 0-2.86zM5.41 20L4 18.59l7.72-7.72 1.47 1.35L5.41 20z\"/>\n",
              "  </svg>\n",
              "      </button>\n",
              "      \n",
              "  <style>\n",
              "    .colab-df-container {\n",
              "      display:flex;\n",
              "      flex-wrap:wrap;\n",
              "      gap: 12px;\n",
              "    }\n",
              "\n",
              "    .colab-df-convert {\n",
              "      background-color: #E8F0FE;\n",
              "      border: none;\n",
              "      border-radius: 50%;\n",
              "      cursor: pointer;\n",
              "      display: none;\n",
              "      fill: #1967D2;\n",
              "      height: 32px;\n",
              "      padding: 0 0 0 0;\n",
              "      width: 32px;\n",
              "    }\n",
              "\n",
              "    .colab-df-convert:hover {\n",
              "      background-color: #E2EBFA;\n",
              "      box-shadow: 0px 1px 2px rgba(60, 64, 67, 0.3), 0px 1px 3px 1px rgba(60, 64, 67, 0.15);\n",
              "      fill: #174EA6;\n",
              "    }\n",
              "\n",
              "    [theme=dark] .colab-df-convert {\n",
              "      background-color: #3B4455;\n",
              "      fill: #D2E3FC;\n",
              "    }\n",
              "\n",
              "    [theme=dark] .colab-df-convert:hover {\n",
              "      background-color: #434B5C;\n",
              "      box-shadow: 0px 1px 3px 1px rgba(0, 0, 0, 0.15);\n",
              "      filter: drop-shadow(0px 1px 2px rgba(0, 0, 0, 0.3));\n",
              "      fill: #FFFFFF;\n",
              "    }\n",
              "  </style>\n",
              "\n",
              "      <script>\n",
              "        const buttonEl =\n",
              "          document.querySelector('#df-b524f78d-c593-40b2-b82b-4b401d39cf1b button.colab-df-convert');\n",
              "        buttonEl.style.display =\n",
              "          google.colab.kernel.accessAllowed ? 'block' : 'none';\n",
              "\n",
              "        async function convertToInteractive(key) {\n",
              "          const element = document.querySelector('#df-b524f78d-c593-40b2-b82b-4b401d39cf1b');\n",
              "          const dataTable =\n",
              "            await google.colab.kernel.invokeFunction('convertToInteractive',\n",
              "                                                     [key], {});\n",
              "          if (!dataTable) return;\n",
              "\n",
              "          const docLinkHtml = 'Like what you see? Visit the ' +\n",
              "            '<a target=\"_blank\" href=https://colab.research.google.com/notebooks/data_table.ipynb>data table notebook</a>'\n",
              "            + ' to learn more about interactive tables.';\n",
              "          element.innerHTML = '';\n",
              "          dataTable['output_type'] = 'display_data';\n",
              "          await google.colab.output.renderOutput(dataTable, element);\n",
              "          const docLink = document.createElement('div');\n",
              "          docLink.innerHTML = docLinkHtml;\n",
              "          element.appendChild(docLink);\n",
              "        }\n",
              "      </script>\n",
              "    </div>\n",
              "  </div>\n",
              "  "
            ],
            "text/plain": [
              "      Activity        D1        D2    D3  ...  D1773  D1774  D1775  D1776\n",
              "0            1  0.000000  0.497009  0.10  ...      0      0      0      0\n",
              "1            1  0.366667  0.606291  0.05  ...      0      0      1      0\n",
              "2            1  0.033300  0.480124  0.00  ...      0      0      0      0\n",
              "3            1  0.000000  0.538825  0.00  ...      0      0      0      0\n",
              "4            0  0.100000  0.517794  0.00  ...      0      0      0      0\n",
              "...        ...       ...       ...   ...  ...    ...    ...    ...    ...\n",
              "3746         1  0.033300  0.506409  0.10  ...      0      0      0      0\n",
              "3747         1  0.133333  0.651023  0.15  ...      1      0      0      0\n",
              "3748         0  0.200000  0.520564  0.00  ...      0      0      0      0\n",
              "3749         1  0.100000  0.765646  0.00  ...      0      0      0      0\n",
              "3750         0  0.133333  0.533952  0.00  ...      0      0      0      0\n",
              "\n",
              "[3751 rows x 1777 columns]"
            ]
          },
          "metadata": {},
          "execution_count": 195
        }
      ],
      "source": [
        "from google.colab import drive\n",
        "drive.mount('/content/drive/')\n",
        "\n",
        "bioresponse = pd.read_csv('/content/drive/My Drive/bioresponse.csv', header=0, sep=',')\n",
        "bioresponse"
      ]
    },
    {
      "cell_type": "markdown",
      "metadata": {
        "id": "9v28WBuUo0ry"
      },
      "source": [
        "Train/test splitting"
      ]
    },
    {
      "cell_type": "code",
      "execution_count": 196,
      "metadata": {
        "id": "QG-MtUFlo4ZN"
      },
      "outputs": [],
      "source": [
        "y = bioresponse['Activity'].values\n",
        "X = bioresponse.drop(\"Activity\", axis=1)\n",
        "\n",
        "X_train, X_test, y_train, y_test = train_test_split(X, y, test_size=0.25, random_state=1)\n",
        "\n",
        "y_train = np.asarray(y_train).T\n",
        "X_train = np.asarray(X_train).T\n",
        "\n",
        "y_test = np.asarray(y_test).T\n",
        "X_test = np.asarray(X_test).T"
      ]
    },
    {
      "cell_type": "markdown",
      "metadata": {
        "id": "0r54rGFZpPst"
      },
      "source": [
        "Applying the logistic regression to predict the biological response of a molecule "
      ]
    },
    {
      "cell_type": "code",
      "execution_count": 197,
      "metadata": {
        "colab": {
          "base_uri": "https://localhost:8080/"
        },
        "id": "ImVlmLYrpTCV",
        "outputId": "b48a994d-ee0c-4466-acee-234b2a4aee46"
      },
      "outputs": [
        {
          "output_type": "stream",
          "name": "stdout",
          "text": [
            "Cost after iteration 0: 0.693147\n",
            "Cost after iteration 100: 0.680547\n",
            "Cost after iteration 200: 0.673636\n",
            "Cost after iteration 300: 0.667458\n",
            "Cost after iteration 400: 0.661693\n",
            "Cost after iteration 500: 0.656284\n",
            "Cost after iteration 600: 0.651192\n",
            "Cost after iteration 700: 0.646387\n",
            "Cost after iteration 800: 0.641843\n",
            "Cost after iteration 900: 0.637534\n",
            "Cost after iteration 1000: 0.633443\n",
            "Cost after iteration 1100: 0.629549\n",
            "Cost after iteration 1200: 0.625838\n",
            "Cost after iteration 1300: 0.622295\n",
            "Cost after iteration 1400: 0.618907\n",
            "Cost after iteration 1500: 0.615663\n",
            "Cost after iteration 1600: 0.612552\n",
            "Cost after iteration 1700: 0.609566\n",
            "Cost after iteration 1800: 0.606695\n",
            "Cost after iteration 1900: 0.603932\n",
            "train accuracy: 73.16032705296836 %\n",
            "test accuracy: 71.96162046908316 %\n"
          ]
        }
      ],
      "source": [
        "d = model(X_train, y_train, X_test, y_test, num_iterations = 2000, learning_rate = 0.001, print_cost = True)"
      ]
    },
    {
      "cell_type": "code",
      "execution_count": 198,
      "metadata": {
        "colab": {
          "base_uri": "https://localhost:8080/",
          "height": 295
        },
        "id": "f4wjvrfoxMI6",
        "outputId": "c49d16bf-4ad1-47b8-840c-f6002726831d"
      },
      "outputs": [
        {
          "output_type": "display_data",
          "data": {
            "image/png": "[encoded data removed]",
            "text/plain": [
              "<Figure size 432x288 with 1 Axes>"
            ]
          },
          "metadata": {
            "needs_background": "light"
          }
        }
      ],
      "source": [
        "n_iter = []\n",
        "for i in range(1, d[\"num_iterations\"]+1):\n",
        "    if i % 100 == 0:\n",
        "        n_iter = np.append(n_iter, i)\n",
        "\n",
        "GD_costs = np.array(d[\"costs\"])\n",
        "\n",
        "plt.plot(n_iter, GD_costs)\n",
        "plt.xlabel(\"N\")\n",
        "plt.ylabel(\"cost function value\")\n",
        "plt.title(\"Learning curve for GD with learning rate = 0.001\")\n",
        "plt.show()"
      ]
    },
    {
      "cell_type": "markdown",
      "metadata": {
        "id": "QmacBwx7uwaZ"
      },
      "source": [
        "Applying models with different values of the learning rate"
      ]
    },
    {
      "cell_type": "code",
      "execution_count": 199,
      "metadata": {
        "colab": {
          "base_uri": "https://localhost:8080/"
        },
        "id": "yswkwzCU0QIr",
        "outputId": "87582840-8b67-4515-e381-74315f03a5db"
      },
      "outputs": [
        {
          "output_type": "stream",
          "name": "stdout",
          "text": [
            "Cost after iteration 0: 0.693147\n",
            "Cost after iteration 100: 0.690952\n",
            "Cost after iteration 200: 0.689130\n",
            "Cost after iteration 300: 0.687589\n",
            "Cost after iteration 400: 0.686259\n",
            "Cost after iteration 500: 0.685088\n",
            "Cost after iteration 600: 0.684037\n",
            "Cost after iteration 700: 0.683077\n",
            "Cost after iteration 800: 0.682187\n",
            "Cost after iteration 900: 0.681350\n",
            "Cost after iteration 1000: 0.680554\n",
            "Cost after iteration 1100: 0.679790\n",
            "Cost after iteration 1200: 0.679052\n",
            "Cost after iteration 1300: 0.678334\n",
            "Cost after iteration 1400: 0.677631\n",
            "Cost after iteration 1500: 0.676943\n",
            "Cost after iteration 1600: 0.676265\n",
            "Cost after iteration 1700: 0.675597\n",
            "Cost after iteration 1800: 0.674937\n",
            "Cost after iteration 1900: 0.674285\n",
            "train accuracy: 55.31461073586918 %\n",
            "test accuracy: 57.569296375266525 %\n"
          ]
        }
      ],
      "source": [
        "d = model(X_train, y_train, X_test, y_test, num_iterations = 2000, learning_rate = 0.0001, print_cost = True)"
      ]
    },
    {
      "cell_type": "code",
      "execution_count": 200,
      "metadata": {
        "colab": {
          "base_uri": "https://localhost:8080/",
          "height": 295
        },
        "id": "GWcCEss90X29",
        "outputId": "c2bf736b-baee-4bda-ced0-8de2e4d32a32"
      },
      "outputs": [
        {
          "output_type": "display_data",
          "data": {
            "image/png": "[encoded data removed]",
            "text/plain": [
              "<Figure size 432x288 with 1 Axes>"
            ]
          },
          "metadata": {
            "needs_background": "light"
          }
        }
      ],
      "source": [
        "n_iter = []\n",
        "for i in range(1, d[\"num_iterations\"]+1):\n",
        "    if i % 100 == 0:\n",
        "        n_iter = np.append(n_iter, i)\n",
        "\n",
        "plt.plot(n_iter, np.array(d[\"costs\"]))\n",
        "plt.xlabel(\"N\")\n",
        "plt.ylabel(\"cost function value\")\n",
        "plt.title(\"Learning curve for GD with learning rate = 0.0001\")\n",
        "plt.show()"
      ]
    },
    {
      "cell_type": "code",
      "execution_count": 201,
      "metadata": {
        "colab": {
          "base_uri": "https://localhost:8080/"
        },
        "id": "bv82UCVp0dgr",
        "outputId": "cafe7654-fa66-45ad-e72e-8ce071f5cbea"
      },
      "outputs": [
        {
          "output_type": "stream",
          "name": "stdout",
          "text": [
            "Cost after iteration 0: 0.693147\n",
            "Cost after iteration 100: 0.633396\n",
            "Cost after iteration 200: 0.601225\n",
            "Cost after iteration 300: 0.578998\n",
            "Cost after iteration 400: 0.562293\n",
            "Cost after iteration 500: 0.549066\n",
            "Cost after iteration 600: 0.538222\n",
            "Cost after iteration 700: 0.529108\n",
            "Cost after iteration 800: 0.521302\n",
            "Cost after iteration 900: 0.514515\n",
            "Cost after iteration 1000: 0.508539\n",
            "Cost after iteration 1100: 0.503222\n",
            "Cost after iteration 1200: 0.498449\n",
            "Cost after iteration 1300: 0.494131\n",
            "Cost after iteration 1400: 0.490196\n",
            "Cost after iteration 1500: 0.486591\n",
            "Cost after iteration 1600: 0.483268\n",
            "Cost after iteration 1700: 0.480191\n",
            "Cost after iteration 1800: 0.477329\n",
            "Cost after iteration 1900: 0.474657\n",
            "train accuracy: 78.99040170636331 %\n",
            "test accuracy: 76.22601279317698 %\n"
          ]
        }
      ],
      "source": [
        "d = model(X_train, y_train, X_test, y_test, num_iterations = 2000, learning_rate = 0.01, print_cost = True)"
      ]
    },
    {
      "cell_type": "code",
      "execution_count": 202,
      "metadata": {
        "colab": {
          "base_uri": "https://localhost:8080/",
          "height": 295
        },
        "id": "uF2jtCD80d3P",
        "outputId": "82cecd8f-265e-43fa-eefe-912450376633"
      },
      "outputs": [
        {
          "output_type": "display_data",
          "data": {
            "image/png": "[encoded data removed]",
            "text/plain": [
              "<Figure size 432x288 with 1 Axes>"
            ]
          },
          "metadata": {
            "needs_background": "light"
          }
        }
      ],
      "source": [
        "n_iter = []\n",
        "for i in range(1, d[\"num_iterations\"]+1):\n",
        "    if i % 100 == 0:\n",
        "        n_iter = np.append(n_iter, i)\n",
        "\n",
        "plt.plot(n_iter, np.array(d[\"costs\"]))\n",
        "plt.xlabel(\"N\")\n",
        "plt.ylabel(\"cost function value\")\n",
        "plt.title(\"Learning curve for GD with learning rate = 0.01\")\n",
        "plt.show()"
      ]
    },
    {
      "cell_type": "code",
      "execution_count": 203,
      "metadata": {
        "colab": {
          "base_uri": "https://localhost:8080/"
        },
        "id": "Txr3rhh008JM",
        "outputId": "c23515c3-61b0-4726-d9f3-edf9f0efbbe1"
      },
      "outputs": [
        {
          "output_type": "stream",
          "name": "stdout",
          "text": [
            "Cost after iteration 0: 0.693147\n",
            "Cost after iteration 100: 0.508360\n",
            "Cost after iteration 200: 0.472067\n",
            "Cost after iteration 300: 0.453298\n",
            "Cost after iteration 400: 0.440874\n",
            "Cost after iteration 500: 0.431608\n",
            "Cost after iteration 600: 0.424210\n",
            "Cost after iteration 700: 0.418046\n",
            "Cost after iteration 800: 0.412757\n",
            "Cost after iteration 900: 0.408123\n",
            "Cost after iteration 1000: 0.403997\n",
            "Cost after iteration 1100: 0.400280\n",
            "Cost after iteration 1200: 0.396896\n",
            "Cost after iteration 1300: 0.393790\n",
            "Cost after iteration 1400: 0.390922\n",
            "Cost after iteration 1500: 0.388256\n",
            "Cost after iteration 1600: 0.385767\n",
            "Cost after iteration 1700: 0.383432\n",
            "Cost after iteration 1800: 0.381234\n",
            "Cost after iteration 1900: 0.379157\n",
            "train accuracy: 84.18059011731248 %\n",
            "test accuracy: 76.75906183368869 %\n"
          ]
        }
      ],
      "source": [
        "d = model(X_train, y_train, X_test, y_test, num_iterations = 2000, learning_rate = 0.1, print_cost = True)"
      ]
    },
    {
      "cell_type": "code",
      "execution_count": 204,
      "metadata": {
        "colab": {
          "base_uri": "https://localhost:8080/",
          "height": 295
        },
        "id": "YrQReeiE08bU",
        "outputId": "445b1244-37f2-4639-f77f-af074c9427cd"
      },
      "outputs": [
        {
          "output_type": "display_data",
          "data": {
            "image/png": "[encoded data removed]",
            "text/plain": [
              "<Figure size 432x288 with 1 Axes>"
            ]
          },
          "metadata": {
            "needs_background": "light"
          }
        }
      ],
      "source": [
        "n_iter = []\n",
        "for i in range(1, d[\"num_iterations\"]+1):\n",
        "    if i % 100 == 0:\n",
        "        n_iter = np.append(n_iter, i)\n",
        "\n",
        "plt.plot(n_iter, np.array(d[\"costs\"]))\n",
        "plt.xlabel(\"N\")\n",
        "plt.ylabel(\"cost function value\")\n",
        "plt.title(\"Learning curve for GD with learning rate = 0.1\")\n",
        "plt.show()"
      ]
    },
    {
      "cell_type": "code",
      "execution_count": 229,
      "metadata": {
        "colab": {
          "base_uri": "https://localhost:8080/"
        },
        "id": "VYItk-6d1w6k",
        "outputId": "c78303a9-d6d3-4c2e-ba99-c35c38860e6d"
      },
      "outputs": [
        {
          "output_type": "stream",
          "name": "stdout",
          "text": [
            "(1776, 2813)\n",
            "(2813,)\n",
            "Cost after iteration 0: 0.693147\n",
            "Cost after iteration 100: 2.257727\n"
          ]
        },
        {
          "output_type": "stream",
          "name": "stderr",
          "text": [
            "/usr/local/lib/python3.7/dist-packages/ipykernel_launcher.py:24: RuntimeWarning: divide by zero encountered in log\n",
            "/usr/local/lib/python3.7/dist-packages/ipykernel_launcher.py:24: RuntimeWarning: invalid value encountered in multiply\n"
          ]
        },
        {
          "output_type": "stream",
          "name": "stdout",
          "text": [
            "Cost after iteration 200: 0.585844\n",
            "Cost after iteration 300: 1.253222\n",
            "Cost after iteration 400: 0.395845\n",
            "Cost after iteration 500: 0.613896\n",
            "Cost after iteration 600: 0.695665\n",
            "Cost after iteration 700: 0.673796\n",
            "Cost after iteration 800: 0.861178\n",
            "Cost after iteration 900: 0.959474\n",
            "Cost after iteration 1000: 0.704546\n",
            "Cost after iteration 1100: 0.727626\n",
            "Cost after iteration 1200: 0.486464\n",
            "Cost after iteration 1300: 1.939589\n",
            "Cost after iteration 1400: 0.728857\n",
            "Cost after iteration 1500: 1.455095\n",
            "Cost after iteration 1600: 1.233441\n",
            "Cost after iteration 1700: 0.798386\n",
            "Cost after iteration 1800: 0.733491\n",
            "Cost after iteration 1900: 0.939916\n",
            "train accuracy: 82.82971916103804 %\n",
            "test accuracy: 74.09381663113007 %\n"
          ]
        }
      ],
      "source": [
        "d = model(X_train, y_train, X_test, y_test, num_iterations = 2000, learning_rate = 0.999, print_cost = True)"
      ]
    },
    {
      "cell_type": "code",
      "execution_count": 230,
      "metadata": {
        "colab": {
          "base_uri": "https://localhost:8080/",
          "height": 295
        },
        "id": "w8czGWGa1xQA",
        "outputId": "32527684-50af-4de4-dcc7-df44024d8a3e"
      },
      "outputs": [
        {
          "output_type": "display_data",
          "data": {
            "image/png": "[encoded data removed]",
            "text/plain": [
              "<Figure size 432x288 with 1 Axes>"
            ]
          },
          "metadata": {
            "needs_background": "light"
          }
        }
      ],
      "source": [
        "n_iter = []\n",
        "for i in range(1, d[\"num_iterations\"]+1):\n",
        "    if i % 100 == 0:\n",
        "        n_iter = np.append(n_iter, i)\n",
        "\n",
        "plt.plot(n_iter, np.array(d[\"costs\"]))\n",
        "plt.xlabel(\"N\")\n",
        "plt.ylabel(\"cost function value\")\n",
        "plt.title(\"Learning curve for GD with learning rate = 0.999\")\n",
        "plt.show()"
      ]
    },
    {
      "cell_type": "markdown",
      "metadata": {
        "id": "Gs4Rv5uXznR6"
      },
      "source": [
        "As the value of learning_rate increased, so did the test accuracy (except for the last two experiments)"
      ]
    },
    {
      "cell_type": "markdown",
      "metadata": {
        "id": "DsOk0o8mmlc2"
      },
      "source": [
        "Modifying\n",
        " optimize() function to implement the stochastic gradient descent (SGD) method"
      ]
    },
    {
      "cell_type": "code",
      "execution_count": 231,
      "metadata": {
        "id": "u3SVNfaf6peG"
      },
      "outputs": [],
      "source": [
        "from pandas._libs import index\n",
        "def optimize(w, b, X, Y, num_iterations, learning_rate, print_cost = False, batch_size = 150):\n",
        "    \"\"\"This function optimizes w and b by running a stochastic gradient descent algorithm\"\"\"\n",
        "    costs = []\n",
        "    cost = 0\n",
        "    dw = []\n",
        "    db = 0\n",
        "\n",
        "    print(np.shape(X))\n",
        "    print(np.shape(Y))\n",
        "    for i in range(num_iterations):\n",
        "\n",
        "\n",
        "        #idx = np.random.choice(np.arange(Y.shape[1]), batch_size, replace=False)\n",
        "        idx = np.random.randint(0, X.shape[1] - batch_size)\n",
        "\n",
        "        temp_X = X[:, idx:idx+batch_size]\n",
        "        temp_Y = Y[idx:idx+batch_size]\n",
        "\n",
        "        # Cost and gradient calculation \n",
        "        grads, cost = propagate(w,b,temp_X,temp_Y)\n",
        "        \n",
        "        # Retrieve derivatives from grads\n",
        "        dw = grads[\"dw\"]\n",
        "        db = grads[\"db\"]\n",
        "        \n",
        "        # update rule\n",
        "        w -=learning_rate*dw\n",
        "        b -=learning_rate*db\n",
        "\n",
        "        \n",
        "        # Record the costs\n",
        "        if i % 100 == 0:\n",
        "            costs.append(cost)\n",
        "        \n",
        "        # Print the cost every 100 training iterations\n",
        "        if print_cost and i % 100 == 0:\n",
        "            print (\"Cost after iteration %i: %f\" %(i, cost))\n",
        "    \n",
        "    params = {\"w\": w,\n",
        "              \"b\": b}\n",
        "    grads = {\"dw\": dw,\n",
        "             \"db\": db}\n",
        "    return params, grads, costs"
      ]
    },
    {
      "cell_type": "markdown",
      "metadata": {
        "id": "_Pf2xnBwvLhW"
      },
      "source": [
        "Using SGD optimization method to predict the biological response of a molecule "
      ]
    },
    {
      "cell_type": "code",
      "execution_count": 232,
      "metadata": {
        "colab": {
          "base_uri": "https://localhost:8080/"
        },
        "id": "W1WuEXYD74YY",
        "outputId": "7506a1db-bf44-4687-ba29-2d76fd347bda"
      },
      "outputs": [
        {
          "output_type": "stream",
          "name": "stdout",
          "text": [
            "(1776, 2813)\n",
            "(2813,)\n",
            "Cost after iteration 0: 0.693147\n",
            "Cost after iteration 100: 0.674346\n",
            "Cost after iteration 200: 0.675461\n",
            "Cost after iteration 300: 0.680574\n",
            "Cost after iteration 400: 0.655171\n",
            "Cost after iteration 500: 0.669073\n",
            "Cost after iteration 600: 0.641146\n",
            "Cost after iteration 700: 0.632367\n",
            "Cost after iteration 800: 0.648541\n",
            "Cost after iteration 900: 0.633353\n",
            "Cost after iteration 1000: 0.639855\n",
            "Cost after iteration 1100: 0.637616\n",
            "Cost after iteration 1200: 0.649709\n",
            "Cost after iteration 1300: 0.615929\n",
            "Cost after iteration 1400: 0.607150\n",
            "Cost after iteration 1500: 0.593182\n",
            "Cost after iteration 1600: 0.610373\n",
            "Cost after iteration 1700: 0.604916\n",
            "Cost after iteration 1800: 0.599045\n",
            "Cost after iteration 1900: 0.610753\n",
            "train accuracy: 72.9825808745112 %\n",
            "test accuracy: 72.0682302771855 %\n"
          ]
        }
      ],
      "source": [
        "d = model(X_train, y_train, X_test, y_test, num_iterations = 2000, learning_rate = 0.001, print_cost = True)"
      ]
    },
    {
      "cell_type": "code",
      "execution_count": 233,
      "metadata": {
        "colab": {
          "base_uri": "https://localhost:8080/",
          "height": 295
        },
        "id": "5Mow3tCu2Yn1",
        "outputId": "4c779904-dd03-4913-c8cb-3a0c8cffbaf2"
      },
      "outputs": [
        {
          "output_type": "display_data",
          "data": {
            "image/png": "[encoded data removed]",
            "text/plain": [
              "<Figure size 432x288 with 1 Axes>"
            ]
          },
          "metadata": {
            "needs_background": "light"
          }
        }
      ],
      "source": [
        "n_iter = []\n",
        "for i in range(1, d[\"num_iterations\"]+1):\n",
        "    if i % 100 == 0:\n",
        "        n_iter = np.append(n_iter, i)\n",
        "\n",
        "SGD_costs = np.array(d[\"costs\"])\n",
        "\n",
        "plt.plot(n_iter, SGD_costs)\n",
        "plt.xlabel(\"N\")\n",
        "plt.ylabel(\"cost function value\")\n",
        "plt.title(\"Learning curve for SGD with learning rate = 0.001\")\n",
        "plt.show()"
      ]
    },
    {
      "cell_type": "markdown",
      "metadata": {
        "id": "R9_HXIUOvgHA"
      },
      "source": [
        "Applying models with different values of the learning rate"
      ]
    },
    {
      "cell_type": "code",
      "execution_count": 234,
      "metadata": {
        "colab": {
          "base_uri": "https://localhost:8080/"
        },
        "id": "JzmTwkVX29s2",
        "outputId": "3f9cc05f-708a-4d74-df1f-53900a81c30f"
      },
      "outputs": [
        {
          "output_type": "stream",
          "name": "stdout",
          "text": [
            "(1776, 2813)\n",
            "(2813,)\n",
            "Cost after iteration 0: 0.693147\n",
            "Cost after iteration 100: 0.692838\n",
            "Cost after iteration 200: 0.690344\n",
            "Cost after iteration 300: 0.688997\n",
            "Cost after iteration 400: 0.682467\n",
            "Cost after iteration 500: 0.687842\n",
            "Cost after iteration 600: 0.682827\n",
            "Cost after iteration 700: 0.679827\n",
            "Cost after iteration 800: 0.678001\n",
            "Cost after iteration 900: 0.671886\n",
            "Cost after iteration 1000: 0.676820\n",
            "Cost after iteration 1100: 0.684835\n",
            "Cost after iteration 1200: 0.681172\n",
            "Cost after iteration 1300: 0.685442\n",
            "Cost after iteration 1400: 0.673095\n",
            "Cost after iteration 1500: 0.688582\n",
            "Cost after iteration 1600: 0.670507\n",
            "Cost after iteration 1700: 0.668276\n",
            "Cost after iteration 1800: 0.677378\n",
            "Cost after iteration 1900: 0.668829\n",
            "train accuracy: 54.959118378954855 %\n",
            "test accuracy: 57.0362473347548 %\n"
          ]
        }
      ],
      "source": [
        "d = model(X_train, y_train, X_test, y_test, num_iterations = 2000, learning_rate = 0.0001, print_cost = True)"
      ]
    },
    {
      "cell_type": "code",
      "execution_count": 235,
      "metadata": {
        "colab": {
          "base_uri": "https://localhost:8080/",
          "height": 295
        },
        "id": "oRn-kP7e2_EX",
        "outputId": "7b7d9c5a-1dcd-4167-cb7d-3af9d29b7e1b"
      },
      "outputs": [
        {
          "output_type": "display_data",
          "data": {
            "image/png": "[encoded data removed]",
            "text/plain": [
              "<Figure size 432x288 with 1 Axes>"
            ]
          },
          "metadata": {
            "needs_background": "light"
          }
        }
      ],
      "source": [
        "n_iter = []\n",
        "for i in range(1, d[\"num_iterations\"]+1):\n",
        "    if i % 100 == 0:\n",
        "        n_iter = np.append(n_iter, i)\n",
        "\n",
        "plt.plot(n_iter, np.array(d[\"costs\"]))\n",
        "plt.xlabel(\"N\")\n",
        "plt.ylabel(\"cost function value\")\n",
        "plt.title(\"Learning curve for SGD with learning rate = 0.0001\")\n",
        "plt.show()"
      ]
    },
    {
      "cell_type": "code",
      "execution_count": 236,
      "metadata": {
        "colab": {
          "base_uri": "https://localhost:8080/"
        },
        "id": "Q8aFPRtU3H0H",
        "outputId": "76339f29-72dd-4d5a-dbe8-b361c2c98c73"
      },
      "outputs": [
        {
          "output_type": "stream",
          "name": "stdout",
          "text": [
            "(1776, 2813)\n",
            "(2813,)\n",
            "Cost after iteration 0: 0.693147\n",
            "Cost after iteration 100: 0.627054\n",
            "Cost after iteration 200: 0.597534\n",
            "Cost after iteration 300: 0.563419\n",
            "Cost after iteration 400: 0.563382\n",
            "Cost after iteration 500: 0.516566\n",
            "Cost after iteration 600: 0.571955\n",
            "Cost after iteration 700: 0.560732\n",
            "Cost after iteration 800: 0.501849\n",
            "Cost after iteration 900: 0.529181\n",
            "Cost after iteration 1000: 0.506578\n",
            "Cost after iteration 1100: 0.512296\n",
            "Cost after iteration 1200: 0.496742\n",
            "Cost after iteration 1300: 0.547084\n",
            "Cost after iteration 1400: 0.487607\n",
            "Cost after iteration 1500: 0.503277\n",
            "Cost after iteration 1600: 0.507857\n",
            "Cost after iteration 1700: 0.501122\n",
            "Cost after iteration 1800: 0.525623\n",
            "Cost after iteration 1900: 0.408127\n",
            "train accuracy: 78.99040170636331 %\n",
            "test accuracy: 76.01279317697228 %\n"
          ]
        }
      ],
      "source": [
        "d = model(X_train, y_train, X_test, y_test, num_iterations = 2000, learning_rate = 0.01, print_cost = True)"
      ]
    },
    {
      "cell_type": "code",
      "execution_count": 237,
      "metadata": {
        "colab": {
          "base_uri": "https://localhost:8080/",
          "height": 295
        },
        "id": "dxAYvx6U3N0W",
        "outputId": "8caf39ae-b354-4498-b93b-7e492ea93f69"
      },
      "outputs": [
        {
          "output_type": "display_data",
          "data": {
            "image/png": "[encoded data removed]",
            "text/plain": [
              "<Figure size 432x288 with 1 Axes>"
            ]
          },
          "metadata": {
            "needs_background": "light"
          }
        }
      ],
      "source": [
        "n_iter = []\n",
        "for i in range(1, d[\"num_iterations\"]+1):\n",
        "    if i % 100 == 0:\n",
        "        n_iter = np.append(n_iter, i)\n",
        "\n",
        "plt.plot(n_iter, np.array(d[\"costs\"]))\n",
        "plt.xlabel(\"N\")\n",
        "plt.ylabel(\"cost function value\")\n",
        "plt.title(\"Learning curve for SGD with learning rate = 0.01\")\n",
        "plt.show()"
      ]
    },
    {
      "cell_type": "code",
      "execution_count": 238,
      "metadata": {
        "colab": {
          "base_uri": "https://localhost:8080/"
        },
        "id": "kCa17nfh3WZb",
        "outputId": "5ae3aa95-c370-4933-e34d-17a3a25da24f"
      },
      "outputs": [
        {
          "output_type": "stream",
          "name": "stdout",
          "text": [
            "(1776, 2813)\n",
            "(2813,)\n",
            "Cost after iteration 0: 0.693147\n",
            "Cost after iteration 100: 0.533182\n",
            "Cost after iteration 200: 0.469841\n",
            "Cost after iteration 300: 0.443848\n",
            "Cost after iteration 400: 0.430365\n",
            "Cost after iteration 500: 0.476887\n",
            "Cost after iteration 600: 0.372889\n",
            "Cost after iteration 700: 0.337948\n",
            "Cost after iteration 800: 0.392558\n",
            "Cost after iteration 900: 0.381230\n",
            "Cost after iteration 1000: 0.388820\n",
            "Cost after iteration 1100: 0.392375\n",
            "Cost after iteration 1200: 0.385849\n",
            "Cost after iteration 1300: 0.440929\n",
            "Cost after iteration 1400: 0.403054\n",
            "Cost after iteration 1500: 0.434845\n",
            "Cost after iteration 1600: 0.452307\n",
            "Cost after iteration 1700: 0.397933\n",
            "Cost after iteration 1800: 0.383067\n",
            "Cost after iteration 1900: 0.416198\n",
            "train accuracy: 84.14504088162104 %\n",
            "test accuracy: 77.9317697228145 %\n"
          ]
        }
      ],
      "source": [
        "d = model(X_train, y_train, X_test, y_test, num_iterations = 2000, learning_rate = 0.1, print_cost = True)"
      ]
    },
    {
      "cell_type": "code",
      "execution_count": 239,
      "metadata": {
        "colab": {
          "base_uri": "https://localhost:8080/",
          "height": 295
        },
        "id": "fle8Z8Uh3YWj",
        "outputId": "03f24799-febf-4249-829e-1df81c3bcc59"
      },
      "outputs": [
        {
          "output_type": "display_data",
          "data": {
            "image/png": "[encoded data removed]",
            "text/plain": [
              "<Figure size 432x288 with 1 Axes>"
            ]
          },
          "metadata": {
            "needs_background": "light"
          }
        }
      ],
      "source": [
        "n_iter = []\n",
        "for i in range(1, d[\"num_iterations\"]+1):\n",
        "    if i % 100 == 0:\n",
        "        n_iter = np.append(n_iter, i)\n",
        "\n",
        "plt.plot(n_iter, np.array(d[\"costs\"]))\n",
        "plt.xlabel(\"N\")\n",
        "plt.ylabel(\"cost function value\")\n",
        "plt.title(\"Learning curve for SGD with learning rate = 0.1\")\n",
        "plt.show()"
      ]
    },
    {
      "cell_type": "code",
      "execution_count": 240,
      "metadata": {
        "colab": {
          "base_uri": "https://localhost:8080/"
        },
        "id": "0-750LqS3ecz",
        "outputId": "7cb37103-84f3-402f-d6e8-6d029a572ba0"
      },
      "outputs": [
        {
          "output_type": "stream",
          "name": "stdout",
          "text": [
            "(1776, 2813)\n",
            "(2813,)\n",
            "Cost after iteration 0: 0.693147\n",
            "Cost after iteration 100: 1.306825\n"
          ]
        },
        {
          "output_type": "stream",
          "name": "stderr",
          "text": [
            "/usr/local/lib/python3.7/dist-packages/ipykernel_launcher.py:24: RuntimeWarning: divide by zero encountered in log\n",
            "/usr/local/lib/python3.7/dist-packages/ipykernel_launcher.py:24: RuntimeWarning: invalid value encountered in multiply\n"
          ]
        },
        {
          "output_type": "stream",
          "name": "stdout",
          "text": [
            "Cost after iteration 200: 1.288975\n",
            "Cost after iteration 300: 2.191544\n",
            "Cost after iteration 400: 1.013054\n",
            "Cost after iteration 500: 0.556860\n",
            "Cost after iteration 600: 1.275468\n",
            "Cost after iteration 700: 0.751834\n",
            "Cost after iteration 800: 2.595421\n",
            "Cost after iteration 900: 1.022653\n",
            "Cost after iteration 1000: 0.466919\n",
            "Cost after iteration 1100: 0.524671\n",
            "Cost after iteration 1200: 0.570135\n",
            "Cost after iteration 1300: 0.993332\n",
            "Cost after iteration 1400: 1.317455\n",
            "Cost after iteration 1500: 0.606705\n",
            "Cost after iteration 1600: 0.615099\n",
            "Cost after iteration 1700: 1.209400\n",
            "Cost after iteration 1800: 0.271242\n",
            "Cost after iteration 1900: 0.323491\n",
            "train accuracy: 80.02132954141486 %\n",
            "test accuracy: 74.09381663113007 %\n"
          ]
        }
      ],
      "source": [
        "d = model(X_train, y_train, X_test, y_test, num_iterations = 2000, learning_rate = 0.999, print_cost = True)"
      ]
    },
    {
      "cell_type": "code",
      "execution_count": 241,
      "metadata": {
        "colab": {
          "base_uri": "https://localhost:8080/",
          "height": 295
        },
        "id": "yIcdXWVC3fiu",
        "outputId": "bde900c5-7d3f-403a-fcc9-00f1f2b57381"
      },
      "outputs": [
        {
          "output_type": "display_data",
          "data": {
            "image/png": "[encoded data removed]",
            "text/plain": [
              "<Figure size 432x288 with 1 Axes>"
            ]
          },
          "metadata": {
            "needs_background": "light"
          }
        }
      ],
      "source": [
        "n_iter = []\n",
        "for i in range(1, d[\"num_iterations\"]+1):\n",
        "    if i % 100 == 0:\n",
        "        n_iter = np.append(n_iter, i)\n",
        "\n",
        "plt.plot(n_iter, np.array(d[\"costs\"]))\n",
        "plt.xlabel(\"N\")\n",
        "plt.ylabel(\"cost function value\")\n",
        "plt.title(\"Learning curve for SGD with learning rate = 0.999\")\n",
        "plt.show()"
      ]
    },
    {
      "cell_type": "markdown",
      "metadata": {
        "id": "Dpzr6uvg1Bng"
      },
      "source": [
        "As the value of learning_rate increased, so did the test accuracy (except for the last one experiment)"
      ]
    },
    {
      "cell_type": "markdown",
      "metadata": {
        "id": "iaW7FR_w9eH_"
      },
      "source": [
        "ADAM optimization method"
      ]
    },
    {
      "cell_type": "markdown",
      "metadata": {
        "id": "W5ID_llmucaZ"
      },
      "source": [
        "Modifying optimize() function to apply adam optimization method"
      ]
    },
    {
      "cell_type": "code",
      "execution_count": 242,
      "metadata": {
        "id": "FWGiN_cm9hZo"
      },
      "outputs": [],
      "source": [
        "class AdamOptim():\n",
        "    def __init__(self, eta=0.01, beta1=0.9, beta2=0.999, epsilon=1e-8):\n",
        "        self.m_dw, self.v_dw = 0, 0\n",
        "        self.m_db, self.v_db = 0, 0\n",
        "        self.beta1 = beta1\n",
        "        self.beta2 = beta2\n",
        "        self.epsilon = epsilon\n",
        "        self.eta = eta\n",
        "    def update(self, t, w, b, dw, db):\n",
        "\n",
        "        # *** weights *** #\n",
        "        self.m_dw = self.beta1*self.m_dw + (1-self.beta1)*dw\n",
        "        # *** biases *** #\n",
        "        self.m_db = self.beta1*self.m_db + (1-self.beta1)*db\n",
        "\n",
        "        ## rms beta 2\n",
        "        # *** weights *** #\n",
        "        self.v_dw = self.beta2*self.v_dw + (1-self.beta2)*(dw**2)\n",
        "        # *** biases *** #\n",
        "        self.v_db = self.beta2*self.v_db + (1-self.beta2)*(db)\n",
        "\n",
        "        ## bias correction\n",
        "        m_dw_corr = self.m_dw/(1-self.beta1**t)\n",
        "        m_db_corr = self.m_db/(1-self.beta1**t)\n",
        "        v_dw_corr = self.v_dw/(1-self.beta2**t)\n",
        "        v_db_corr = self.v_db/(1-self.beta2**t)\n",
        "\n",
        "        ## update weights and biases\n",
        "        w = w - self.eta*(m_dw_corr/(np.sqrt(v_dw_corr)+self.epsilon))\n",
        "        b = b - self.eta*(m_db_corr/(np.sqrt(abs(v_db_corr))+self.epsilon))\n",
        "        return w, b\n",
        "\n",
        "\n",
        "def optimize(w, b, X, Y, num_iterations, learning_rate, print_cost = False):\n",
        "    \"\"\"This function optimizes w and b by running adam algorithm\"\"\"\n",
        "    \n",
        "    adam = AdamOptim()\n",
        "    t = 1 \n",
        "    costs = []\n",
        "    for i in range(num_iterations):\n",
        "      \n",
        "        # Cost and gradient calculation \n",
        "        grads, cost = propagate(w,b,X,Y)\n",
        "        \n",
        "        # Retrieve derivatives from grads\n",
        "        dw = grads[\"dw\"]\n",
        "        db = grads[\"db\"]\n",
        "\n",
        "        # update rule\n",
        "        w, b = adam.update(t,w=w, b=b, dw=dw, db=db)\n",
        "\n",
        "        # Record the costs\n",
        "        if i % 100 == 0:\n",
        "            costs.append(cost)\n",
        "        \n",
        "        # Print the cost every 100 training iterations\n",
        "        if print_cost and i % 100 == 0:\n",
        "            print (\"Cost after iteration %i: %f\" %(i, cost))\n",
        "    \n",
        "    params = {\"w\": w,\n",
        "              \"b\": b}\n",
        "    grads = {\"dw\": dw,\n",
        "             \"db\": db}\n",
        "    return params, grads, costs"
      ]
    },
    {
      "cell_type": "markdown",
      "metadata": {
        "id": "3IbWsoZ3uXCb"
      },
      "source": [
        "Applying the ADAM optimization to predict the biological response of a molecule "
      ]
    },
    {
      "cell_type": "code",
      "execution_count": 243,
      "metadata": {
        "colab": {
          "base_uri": "https://localhost:8080/"
        },
        "id": "ViCdW6dO-21k",
        "outputId": "4fb47a38-75b0-4228-ad53-9ce5baac230a"
      },
      "outputs": [
        {
          "output_type": "stream",
          "name": "stdout",
          "text": [
            "Cost after iteration 0: 0.693147\n",
            "Cost after iteration 100: 0.363619\n",
            "Cost after iteration 200: 0.328739\n",
            "Cost after iteration 300: 0.308450\n",
            "Cost after iteration 400: 0.294061\n",
            "Cost after iteration 500: 0.282867\n",
            "Cost after iteration 600: 0.273662\n",
            "Cost after iteration 700: 0.265811\n",
            "Cost after iteration 800: 0.258940\n",
            "Cost after iteration 900: 0.252808\n",
            "Cost after iteration 1000: 0.247254\n",
            "Cost after iteration 1100: 0.242163\n",
            "Cost after iteration 1200: 0.237452\n",
            "Cost after iteration 1300: 0.233057\n",
            "Cost after iteration 1400: 0.228930\n",
            "Cost after iteration 1500: 0.225033\n",
            "Cost after iteration 1600: 0.221333\n",
            "Cost after iteration 1700: 0.217807\n",
            "Cost after iteration 1800: 0.214434\n",
            "Cost after iteration 1900: 0.211196\n",
            "train accuracy: 92.89015286171347 %\n",
            "test accuracy: 74.09381663113007 %\n"
          ]
        }
      ],
      "source": [
        "d = model(X_train, y_train, X_test, y_test, num_iterations = 2000, learning_rate = 0.001, print_cost = True)"
      ]
    },
    {
      "cell_type": "code",
      "execution_count": 244,
      "metadata": {
        "colab": {
          "base_uri": "https://localhost:8080/",
          "height": 295
        },
        "id": "oGei7CUFr7rC",
        "outputId": "291fec27-d591-4d18-8afe-8096fa1676f7"
      },
      "outputs": [
        {
          "output_type": "display_data",
          "data": {
            "image/png": "[encoded data removed]",
            "text/plain": [
              "<Figure size 432x288 with 1 Axes>"
            ]
          },
          "metadata": {
            "needs_background": "light"
          }
        }
      ],
      "source": [
        "n_iter = []\n",
        "for i in range(1, d[\"num_iterations\"]+1):\n",
        "    if i % 100 == 0:\n",
        "        n_iter = np.append(n_iter, i)\n",
        "\n",
        "ADAM_costs = np.array(d[\"costs\"])\n",
        "\n",
        "plt.plot(n_iter, ADAM_costs)\n",
        "plt.xlabel(\"N\")\n",
        "plt.ylabel(\"cost function value\")\n",
        "plt.title(\"Learning curve for ADAM with learning rate = 0.001\")\n",
        "plt.show()"
      ]
    },
    {
      "cell_type": "markdown",
      "metadata": {
        "id": "qjAWPUAZvoW9"
      },
      "source": [
        "Applying models with different values of the learning rate"
      ]
    },
    {
      "cell_type": "code",
      "execution_count": 245,
      "metadata": {
        "colab": {
          "base_uri": "https://localhost:8080/"
        },
        "id": "0NctYUgbsF_g",
        "outputId": "149c4dbd-36fd-4603-b98c-c3ed01f0966d"
      },
      "outputs": [
        {
          "output_type": "stream",
          "name": "stdout",
          "text": [
            "Cost after iteration 0: 0.693147\n",
            "Cost after iteration 100: 0.363619\n",
            "Cost after iteration 200: 0.328739\n",
            "Cost after iteration 300: 0.308450\n",
            "Cost after iteration 400: 0.294061\n",
            "Cost after iteration 500: 0.282867\n",
            "Cost after iteration 600: 0.273662\n",
            "Cost after iteration 700: 0.265811\n",
            "Cost after iteration 800: 0.258940\n",
            "Cost after iteration 900: 0.252808\n",
            "Cost after iteration 1000: 0.247254\n",
            "Cost after iteration 1100: 0.242163\n",
            "Cost after iteration 1200: 0.237452\n",
            "Cost after iteration 1300: 0.233057\n",
            "Cost after iteration 1400: 0.228930\n",
            "Cost after iteration 1500: 0.225033\n",
            "Cost after iteration 1600: 0.221333\n",
            "Cost after iteration 1700: 0.217807\n",
            "Cost after iteration 1800: 0.214434\n",
            "Cost after iteration 1900: 0.211196\n",
            "train accuracy: 92.89015286171347 %\n",
            "test accuracy: 74.09381663113007 %\n"
          ]
        }
      ],
      "source": [
        "d = model(X_train, y_train, X_test, y_test, num_iterations = 2000, learning_rate = 0.0001, print_cost = True)"
      ]
    },
    {
      "cell_type": "code",
      "execution_count": 246,
      "metadata": {
        "colab": {
          "base_uri": "https://localhost:8080/",
          "height": 295
        },
        "id": "EFuRK9eLsJT8",
        "outputId": "2752c74a-5a85-4fd8-cb23-b37ecf9bb263"
      },
      "outputs": [
        {
          "output_type": "display_data",
          "data": {
            "image/png": "[encoded data removed]",
            "text/plain": [
              "<Figure size 432x288 with 1 Axes>"
            ]
          },
          "metadata": {
            "needs_background": "light"
          }
        }
      ],
      "source": [
        "n_iter = []\n",
        "for i in range(1, d[\"num_iterations\"]+1):\n",
        "    if i % 100 == 0:\n",
        "        n_iter = np.append(n_iter, i)\n",
        "\n",
        "plt.plot(n_iter, np.array(d[\"costs\"]))\n",
        "plt.xlabel(\"N\")\n",
        "plt.ylabel(\"cost function value\")\n",
        "plt.title(\"Learning curve for ADAM with learning rate = 0.0001\")\n",
        "plt.show()"
      ]
    },
    {
      "cell_type": "code",
      "execution_count": 247,
      "metadata": {
        "colab": {
          "base_uri": "https://localhost:8080/"
        },
        "id": "Ilz8jBXosNpu",
        "outputId": "a50b88f1-7509-469f-840b-a66544555659"
      },
      "outputs": [
        {
          "output_type": "stream",
          "name": "stdout",
          "text": [
            "Cost after iteration 0: 0.693147\n",
            "Cost after iteration 100: 0.363619\n",
            "Cost after iteration 200: 0.328739\n",
            "Cost after iteration 300: 0.308450\n",
            "Cost after iteration 400: 0.294061\n",
            "Cost after iteration 500: 0.282867\n",
            "Cost after iteration 600: 0.273662\n",
            "Cost after iteration 700: 0.265811\n",
            "Cost after iteration 800: 0.258940\n",
            "Cost after iteration 900: 0.252808\n",
            "Cost after iteration 1000: 0.247254\n",
            "Cost after iteration 1100: 0.242163\n",
            "Cost after iteration 1200: 0.237452\n",
            "Cost after iteration 1300: 0.233057\n",
            "Cost after iteration 1400: 0.228930\n",
            "Cost after iteration 1500: 0.225033\n",
            "Cost after iteration 1600: 0.221333\n",
            "Cost after iteration 1700: 0.217807\n",
            "Cost after iteration 1800: 0.214434\n",
            "Cost after iteration 1900: 0.211196\n",
            "train accuracy: 92.89015286171347 %\n",
            "test accuracy: 74.09381663113007 %\n"
          ]
        }
      ],
      "source": [
        "d = model(X_train, y_train, X_test, y_test, num_iterations = 2000, learning_rate = 0.01, print_cost = True)"
      ]
    },
    {
      "cell_type": "code",
      "execution_count": 248,
      "metadata": {
        "colab": {
          "base_uri": "https://localhost:8080/",
          "height": 295
        },
        "id": "VSfJ0nHhsQqp",
        "outputId": "fbd1b6b9-3f14-4d40-c15d-fe8e1f6a5e0b"
      },
      "outputs": [
        {
          "output_type": "display_data",
          "data": {
            "image/png": "[encoded data removed]",
            "text/plain": [
              "<Figure size 432x288 with 1 Axes>"
            ]
          },
          "metadata": {
            "needs_background": "light"
          }
        }
      ],
      "source": [
        "n_iter = []\n",
        "for i in range(1, d[\"num_iterations\"]+1):\n",
        "    if i % 100 == 0:\n",
        "        n_iter = np.append(n_iter, i)\n",
        "\n",
        "plt.plot(n_iter, np.array(d[\"costs\"]))\n",
        "plt.xlabel(\"N\")\n",
        "plt.ylabel(\"cost function value\")\n",
        "plt.title(\"Learning curve for ADAM with learning rate = 0.01\")\n",
        "plt.show()"
      ]
    },
    {
      "cell_type": "code",
      "execution_count": 249,
      "metadata": {
        "colab": {
          "base_uri": "https://localhost:8080/"
        },
        "id": "68NEZa-wsSx6",
        "outputId": "b47b4641-6bfa-4749-9735-07a3b80ce5b7"
      },
      "outputs": [
        {
          "output_type": "stream",
          "name": "stdout",
          "text": [
            "Cost after iteration 0: 0.693147\n",
            "Cost after iteration 100: 0.363619\n",
            "Cost after iteration 200: 0.328739\n",
            "Cost after iteration 300: 0.308450\n",
            "Cost after iteration 400: 0.294061\n",
            "Cost after iteration 500: 0.282867\n",
            "Cost after iteration 600: 0.273662\n",
            "Cost after iteration 700: 0.265811\n",
            "Cost after iteration 800: 0.258940\n",
            "Cost after iteration 900: 0.252808\n",
            "Cost after iteration 1000: 0.247254\n",
            "Cost after iteration 1100: 0.242163\n",
            "Cost after iteration 1200: 0.237452\n",
            "Cost after iteration 1300: 0.233057\n",
            "Cost after iteration 1400: 0.228930\n",
            "Cost after iteration 1500: 0.225033\n",
            "Cost after iteration 1600: 0.221333\n",
            "Cost after iteration 1700: 0.217807\n",
            "Cost after iteration 1800: 0.214434\n",
            "Cost after iteration 1900: 0.211196\n",
            "train accuracy: 92.89015286171347 %\n",
            "test accuracy: 74.09381663113007 %\n"
          ]
        }
      ],
      "source": [
        "d = model(X_train, y_train, X_test, y_test, num_iterations = 2000, learning_rate = 0.1, print_cost = True)"
      ]
    },
    {
      "cell_type": "code",
      "execution_count": 250,
      "metadata": {
        "colab": {
          "base_uri": "https://localhost:8080/",
          "height": 295
        },
        "id": "r1Bz-yGZsUTr",
        "outputId": "88a4e6a8-9b7a-4216-bf50-e189bd988a72"
      },
      "outputs": [
        {
          "output_type": "display_data",
          "data": {
            "image/png": "[encoded data removed]",
            "text/plain": [
              "<Figure size 432x288 with 1 Axes>"
            ]
          },
          "metadata": {
            "needs_background": "light"
          }
        }
      ],
      "source": [
        "n_iter = []\n",
        "for i in range(1, d[\"num_iterations\"]+1):\n",
        "    if i % 100 == 0:\n",
        "        n_iter = np.append(n_iter, i)\n",
        "\n",
        "plt.plot(n_iter, np.array(d[\"costs\"]))\n",
        "plt.xlabel(\"N\")\n",
        "plt.ylabel(\"cost function value\")\n",
        "plt.title(\"Learning curve for ADAM with learning rate = 0.1\")\n",
        "plt.show()"
      ]
    },
    {
      "cell_type": "code",
      "execution_count": 251,
      "metadata": {
        "colab": {
          "base_uri": "https://localhost:8080/"
        },
        "id": "SBcI0hhcsYUk",
        "outputId": "37a0d311-9837-47bd-9333-a9603e3a5c6f"
      },
      "outputs": [
        {
          "output_type": "stream",
          "name": "stdout",
          "text": [
            "Cost after iteration 0: 0.693147\n",
            "Cost after iteration 100: 0.363619\n",
            "Cost after iteration 200: 0.328739\n",
            "Cost after iteration 300: 0.308450\n",
            "Cost after iteration 400: 0.294061\n",
            "Cost after iteration 500: 0.282867\n",
            "Cost after iteration 600: 0.273662\n",
            "Cost after iteration 700: 0.265811\n",
            "Cost after iteration 800: 0.258940\n",
            "Cost after iteration 900: 0.252808\n",
            "Cost after iteration 1000: 0.247254\n",
            "Cost after iteration 1100: 0.242163\n",
            "Cost after iteration 1200: 0.237452\n",
            "Cost after iteration 1300: 0.233057\n",
            "Cost after iteration 1400: 0.228930\n",
            "Cost after iteration 1500: 0.225033\n",
            "Cost after iteration 1600: 0.221333\n",
            "Cost after iteration 1700: 0.217807\n",
            "Cost after iteration 1800: 0.214434\n",
            "Cost after iteration 1900: 0.211196\n",
            "train accuracy: 92.89015286171347 %\n",
            "test accuracy: 74.09381663113007 %\n"
          ]
        }
      ],
      "source": [
        "d = model(X_train, y_train, X_test, y_test, num_iterations = 2000, learning_rate = 0.999, print_cost = True)"
      ]
    },
    {
      "cell_type": "code",
      "execution_count": 252,
      "metadata": {
        "colab": {
          "base_uri": "https://localhost:8080/",
          "height": 295
        },
        "id": "kgjOYaLvsd4E",
        "outputId": "59548345-ab2d-41e1-c399-7bfd6d0cb144"
      },
      "outputs": [
        {
          "output_type": "display_data",
          "data": {
            "image/png": "[encoded data removed]",
            "text/plain": [
              "<Figure size 432x288 with 1 Axes>"
            ]
          },
          "metadata": {
            "needs_background": "light"
          }
        }
      ],
      "source": [
        "n_iter = []\n",
        "for i in range(1, d[\"num_iterations\"]+1):\n",
        "    if i % 100 == 0:\n",
        "        n_iter = np.append(n_iter, i)\n",
        "\n",
        "plt.plot(n_iter, np.array(d[\"costs\"]))\n",
        "plt.xlabel(\"N\")\n",
        "plt.ylabel(\"cost function value\")\n",
        "plt.title(\"Learning curve for ADAM with learning rate = 0.999\")\n",
        "plt.show()"
      ]
    },
    {
      "cell_type": "markdown",
      "metadata": {
        "id": "hZT_o2pxw4bu"
      },
      "source": [
        "Comparison of 3 implemented optimization methods"
      ]
    },
    {
      "cell_type": "code",
      "execution_count": 253,
      "metadata": {
        "colab": {
          "base_uri": "https://localhost:8080/",
          "height": 295
        },
        "id": "ylRzlELPw9b6",
        "outputId": "ab745336-14bd-479b-e3ba-7857019c7300"
      },
      "outputs": [
        {
          "output_type": "display_data",
          "data": {
            "image/png": "[encoded data removed]",
            "text/plain": [
              "<Figure size 432x288 with 1 Axes>"
            ]
          },
          "metadata": {
            "needs_background": "light"
          }
        }
      ],
      "source": [
        "plt.plot(n_iter, GD_costs, n_iter, SGD_costs, n_iter, ADAM_costs)\n",
        "plt.xlabel(\"N\")\n",
        "plt.ylabel(\"cost function value\")\n",
        "plt.title(\"Learning curves for GD, SGD and ADAM with learning rate = 0.001\")\n",
        "plt.legend([\"GD (test_acc = 71.961%)\", \"SGD (test_acc = 71.961%)\", \"ADAM (test_acc = 74.093%)\"])\n",
        "plt.show()"
      ]
    }
  ],
  "metadata": {
    "colab": {
      "collapsed_sections": [],
      "name": "Pinaev_Zakhar_J41322c_MLT_2022_Task_3.ipynb",
      "provenance": []
    },
    "kernelspec": {
      "display_name": "Python 3",
      "name": "python3"
    },
    "language_info": {
      "name": "python"
    }
  },
  "nbformat": 4,
  "nbformat_minor": 0
}